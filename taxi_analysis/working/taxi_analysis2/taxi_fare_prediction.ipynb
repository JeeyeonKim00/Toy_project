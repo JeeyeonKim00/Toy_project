{
 "cells": [
  {
   "cell_type": "markdown",
   "id": "8bfc7a3c-d3f5-4731-bea6-7db775acdff9",
   "metadata": {},
   "source": [
    "> # 목적\n",
    "> - 운행거리(trip_distance)에 따른 요금(total_amount)를 예측할 것"
   ]
  },
  {
   "cell_type": "markdown",
   "id": "865782f7-f342-4b1c-b227-80ff1aaab959",
   "metadata": {},
   "source": [
    "# ✅모델 1: 단일 선형회귀"
   ]
  },
  {
   "cell_type": "markdown",
   "id": "61dd61b4-31a1-49fc-b095-03a4f0091330",
   "metadata": {},
   "source": [
    "## 1️⃣ 데이터 불러오기"
   ]
  },
  {
   "cell_type": "code",
   "execution_count": 11,
   "id": "7c1e100f-70d2-416b-8113-3635336f9acd",
   "metadata": {},
   "outputs": [],
   "source": [
    "from pyspark.sql import SparkSession\n",
    "\n",
    "# out of memory 방지를 위해 max memory 설정\n",
    "MAX_MEMORY=\"5g\"\n",
    "\n",
    "spark = SparkSession.builder.appName(\"taxi-fare-prediction\")\\\n",
    "                    .config(\"spark.executor.memory\", MAX_MEMORY)\\\n",
    "                                    .config(\"spark.driver.memory\", MAX_MEMORY)\\\n",
    "                                    .getOrCreate()"
   ]
  },
  {
   "cell_type": "code",
   "execution_count": 12,
   "id": "c00d4119-ea4c-49b8-8160-c102ef994694",
   "metadata": {},
   "outputs": [],
   "source": [
    "taxi_filepath = '/home/ubuntu/working/taxi_analysis/data/taxi_parquet/*.parquet'\n",
    "taxi_df = spark.read.parquet(f'file:///{taxi_filepath}')\n",
    "taxi_df.createOrReplaceTempView('trips')"
   ]
  },
  {
   "cell_type": "markdown",
   "metadata": {},
   "source": [
    "## 2️⃣ 데이터 전처리"
   ]
  },
  {
   "cell_type": "code",
   "execution_count": 13,
   "id": "01457c38-342b-4b07-8ddf-c1ea8bc316e1",
   "metadata": {},
   "outputs": [
    {
     "name": "stdout",
     "output_type": "stream",
     "text": [
      "taxi_df의 shape : 39656098, 19\n",
      "\n",
      "root\n",
      " |-- VendorID: long (nullable = true)\n",
      " |-- tpep_pickup_datetime: timestamp (nullable = true)\n",
      " |-- tpep_dropoff_datetime: timestamp (nullable = true)\n",
      " |-- passenger_count: double (nullable = true)\n",
      " |-- trip_distance: double (nullable = true)\n",
      " |-- RatecodeID: double (nullable = true)\n",
      " |-- store_and_fwd_flag: string (nullable = true)\n",
      " |-- PULocationID: long (nullable = true)\n",
      " |-- DOLocationID: long (nullable = true)\n",
      " |-- payment_type: long (nullable = true)\n",
      " |-- fare_amount: double (nullable = true)\n",
      " |-- extra: double (nullable = true)\n",
      " |-- mta_tax: double (nullable = true)\n",
      " |-- tip_amount: double (nullable = true)\n",
      " |-- tolls_amount: double (nullable = true)\n",
      " |-- improvement_surcharge: double (nullable = true)\n",
      " |-- total_amount: double (nullable = true)\n",
      " |-- congestion_surcharge: double (nullable = true)\n",
      " |-- airport_fee: double (nullable = true)\n",
      "\n"
     ]
    },
    {
     "name": "stderr",
     "output_type": "stream",
     "text": [
      "                                                                                \r"
     ]
    }
   ],
   "source": [
    "print(f'taxi_df의 shape : {taxi_df.count()}, {len(taxi_df.columns)}')\n",
    "print()\n",
    "taxi_df.printSchema()"
   ]
  },
  {
   "cell_type": "code",
   "execution_count": 14,
   "id": "83464729-538c-4352-9606-d60a2cf68c1c",
   "metadata": {},
   "outputs": [],
   "source": [
    "query = \"\"\"\n",
    "        SELECT trip_distance, total_amount\n",
    "        FROM trips\n",
    "        WHERE (total_amount BETWEEN 0 AND 5000)\n",
    "        AND (trip_distance BETWEEN 1 AND  500)\n",
    "        AND passenger_count < 4\n",
    "        AND TO_DATE(tpep_pickup_datetime) BETWEEN '2022-01-01' AND '2022-12-31'\n",
    "\"\"\"\n",
    "\n",
    "final_df = spark.sql(query)\n",
    "final_df.createOrReplaceTempView('final')"
   ]
  },
  {
   "cell_type": "code",
   "execution_count": 15,
   "id": "8f109de6-8261-4b9c-84f1-2a01b57f5a0c",
   "metadata": {
    "scrolled": true
   },
   "outputs": [
    {
     "name": "stderr",
     "output_type": "stream",
     "text": [
      "[Stage 4:=================================>                        (7 + 5) / 12]\r"
     ]
    },
    {
     "name": "stdout",
     "output_type": "stream",
     "text": [
      "+-------+-----------------+------------------+\n",
      "|summary|    trip_distance|      total_amount|\n",
      "+-------+-----------------+------------------+\n",
      "|  count|         28834138|          28834138|\n",
      "|   mean|4.183867343629365|23.890795338908845|\n",
      "| stddev|4.752827513261283|17.557943295123383|\n",
      "|    min|              1.0|               0.0|\n",
      "|    max|            470.8|            2567.8|\n",
      "+-------+-----------------+------------------+\n",
      "\n"
     ]
    },
    {
     "name": "stderr",
     "output_type": "stream",
     "text": [
      "                                                                                \r"
     ]
    }
   ],
   "source": [
    "final_df.describe().show()"
   ]
  },
  {
   "cell_type": "markdown",
   "id": "fb9d225c-6bcc-4ea6-8be3-02da5078986e",
   "metadata": {},
   "source": [
    "## 3️⃣ 데이터 쪼개기 (train, test)"
   ]
  },
  {
   "cell_type": "code",
   "execution_count": 16,
   "metadata": {},
   "outputs": [],
   "source": [
    "train_df, test_df = final_df.randomSplit([0.8,0.2], seed=5)"
   ]
  },
  {
   "cell_type": "code",
   "execution_count": 17,
   "metadata": {},
   "outputs": [
    {
     "name": "stderr",
     "output_type": "stream",
     "text": [
      "                                                                                \r"
     ]
    },
    {
     "name": "stdout",
     "output_type": "stream",
     "text": [
      "train_df의 shape: 23064996, 2\n"
     ]
    },
    {
     "name": "stderr",
     "output_type": "stream",
     "text": [
      "[Stage 10:======================================>                  (8 + 4) / 12]\r"
     ]
    },
    {
     "name": "stdout",
     "output_type": "stream",
     "text": [
      "test_df의 shape: 5769142, 2\n"
     ]
    },
    {
     "name": "stderr",
     "output_type": "stream",
     "text": [
      "                                                                                \r"
     ]
    }
   ],
   "source": [
    "print(f'train_df의 shape: {train_df.count()}, {len(train_df.columns)}')\n",
    "print(f'test_df의 shape: {test_df.count()}, {len(test_df.columns)}')"
   ]
  },
  {
   "cell_type": "markdown",
   "metadata": {},
   "source": [
    "- cache\n",
    "  - 중간 결과를 메모리에 저장해두고, 필요할 때마다 메모리에서 바로 사용할 수 있도록 하는 것.\n",
    "  - 반복적인 작업 수행할 때 성능 향상시키기 위함.\n"
   ]
  },
  {
   "cell_type": "code",
   "execution_count": 18,
   "id": "3398b95d-e725-4aea-a8ae-ef643e033f1f",
   "metadata": {},
   "outputs": [
    {
     "data": {
      "text/plain": [
       "DataFrame[trip_distance: double, total_amount: double]"
      ]
     },
     "execution_count": 18,
     "metadata": {},
     "output_type": "execute_result"
    }
   ],
   "source": [
    "train_df.cache() \n"
   ]
  },
  {
   "cell_type": "markdown",
   "id": "55ec9b8b-b707-4c55-a998-1f66daefe757",
   "metadata": {},
   "source": [
    "## 4️⃣ VectorAssembler\n",
    "- train_df, test_df 모두 변환하기"
   ]
  },
  {
   "cell_type": "code",
   "execution_count": 19,
   "metadata": {},
   "outputs": [
    {
     "data": {
      "text/plain": [
       "['trip_distance', 'total_amount']"
      ]
     },
     "execution_count": 19,
     "metadata": {},
     "output_type": "execute_result"
    }
   ],
   "source": [
    "train_df.columns"
   ]
  },
  {
   "cell_type": "code",
   "execution_count": 21,
   "metadata": {},
   "outputs": [],
   "source": [
    "from pyspark.ml.feature import VectorAssembler\n",
    "\n",
    "vec = VectorAssembler(\n",
    "    inputCols=['trip_distance'],\n",
    "    outputCol= 'features'\n",
    ")\n",
    "\n",
    "vec_train_df = vec.transform(train_df)\n",
    "vec_test_df = vec.transform(test_df)"
   ]
  },
  {
   "cell_type": "code",
   "execution_count": 23,
   "metadata": {},
   "outputs": [
    {
     "name": "stdout",
     "output_type": "stream",
     "text": [
      "+-------------+------------+--------+\n",
      "|trip_distance|total_amount|features|\n",
      "+-------------+------------+--------+\n",
      "|          1.0|         0.0|   [1.0]|\n",
      "|          1.0|         0.0|   [1.0]|\n",
      "|          1.0|         0.0|   [1.0]|\n",
      "|          1.0|         0.3|   [1.0]|\n",
      "|          1.0|         0.3|   [1.0]|\n",
      "|          1.0|         0.3|   [1.0]|\n",
      "|          1.0|        0.31|   [1.0]|\n",
      "|          1.0|        0.31|   [1.0]|\n",
      "|          1.0|        0.31|   [1.0]|\n",
      "|          1.0|         1.3|   [1.0]|\n",
      "|          1.0|        1.55|   [1.0]|\n",
      "|          1.0|         3.3|   [1.0]|\n",
      "|          1.0|         3.3|   [1.0]|\n",
      "|          1.0|         4.3|   [1.0]|\n",
      "|          1.0|        5.05|   [1.0]|\n",
      "|          1.0|         5.3|   [1.0]|\n",
      "|          1.0|         5.3|   [1.0]|\n",
      "|          1.0|         5.3|   [1.0]|\n",
      "|          1.0|         5.8|   [1.0]|\n",
      "|          1.0|         5.8|   [1.0]|\n",
      "+-------------+------------+--------+\n",
      "only showing top 20 rows\n",
      "\n"
     ]
    }
   ],
   "source": [
    "vec_train_df.show()"
   ]
  },
  {
   "cell_type": "markdown",
   "id": "67250eed-4e7f-4e9d-acd1-1e8f513dc418",
   "metadata": {},
   "source": [
    "## 5️⃣ 모델 생성"
   ]
  },
  {
   "cell_type": "code",
   "execution_count": 27,
   "metadata": {},
   "outputs": [],
   "source": [
    "from pyspark.ml.regression import LinearRegression\n",
    "\n",
    "lr = LinearRegression(\n",
    "        maxIter = 50,\n",
    "        labelCol = 'total_amount',\n",
    "        featuresCol = 'features'    \n",
    "\n",
    ")"
   ]
  },
  {
   "cell_type": "code",
   "execution_count": 28,
   "id": "7ca290eb-0079-4e5e-a05b-f0865c8baec9",
   "metadata": {},
   "outputs": [
    {
     "name": "stderr",
     "output_type": "stream",
     "text": [
      "23/11/19 15:25:51 WARN Instrumentation: [2b9b8e81] regParam is zero, which might cause numerical instability and overfitting.\n",
      "23/11/19 15:25:51 WARN InstanceBuilder$NativeBLAS: Failed to load implementation from:dev.ludovic.netlib.blas.JNIBLAS\n",
      "23/11/19 15:25:51 WARN InstanceBuilder$NativeBLAS: Failed to load implementation from:dev.ludovic.netlib.blas.ForeignLinkerBLAS\n",
      "23/11/19 15:26:06 WARN InstanceBuilder$NativeLAPACK: Failed to load implementation from:dev.ludovic.netlib.lapack.JNILAPACK\n",
      "                                                                                \r"
     ]
    }
   ],
   "source": [
    "# 모델 학습\n",
    "lr_model = lr.fit(vec_train_df)"
   ]
  },
  {
   "cell_type": "markdown",
   "id": "4098819a-51b3-472d-9c44-47cb87248c7b",
   "metadata": {},
   "source": [
    "## 6️⃣ 예측"
   ]
  },
  {
   "cell_type": "code",
   "execution_count": 29,
   "id": "55bd2e52-502e-4474-9572-b1787f7562c9",
   "metadata": {},
   "outputs": [
    {
     "name": "stderr",
     "output_type": "stream",
     "text": [
      "[Stage 19:>                                                         (0 + 1) / 1]\r"
     ]
    },
    {
     "name": "stdout",
     "output_type": "stream",
     "text": [
      "+-------------+------------+--------+-----------------+\n",
      "|trip_distance|total_amount|features|       prediction|\n",
      "+-------------+------------+--------+-----------------+\n",
      "|          1.0|        0.31|   [1.0]|12.97234093106275|\n",
      "|          1.0|         5.8|   [1.0]|12.97234093106275|\n",
      "|          1.0|         5.8|   [1.0]|12.97234093106275|\n",
      "|          1.0|         5.8|   [1.0]|12.97234093106275|\n",
      "|          1.0|         5.8|   [1.0]|12.97234093106275|\n",
      "|          1.0|         5.8|   [1.0]|12.97234093106275|\n",
      "|          1.0|         5.8|   [1.0]|12.97234093106275|\n",
      "|          1.0|         5.8|   [1.0]|12.97234093106275|\n",
      "|          1.0|         6.3|   [1.0]|12.97234093106275|\n",
      "|          1.0|         6.3|   [1.0]|12.97234093106275|\n",
      "|          1.0|         6.3|   [1.0]|12.97234093106275|\n",
      "|          1.0|         6.3|   [1.0]|12.97234093106275|\n",
      "|          1.0|         6.3|   [1.0]|12.97234093106275|\n",
      "|          1.0|         6.3|   [1.0]|12.97234093106275|\n",
      "|          1.0|         6.3|   [1.0]|12.97234093106275|\n",
      "|          1.0|         6.3|   [1.0]|12.97234093106275|\n",
      "|          1.0|         6.3|   [1.0]|12.97234093106275|\n",
      "|          1.0|         6.3|   [1.0]|12.97234093106275|\n",
      "|          1.0|         6.3|   [1.0]|12.97234093106275|\n",
      "|          1.0|         6.3|   [1.0]|12.97234093106275|\n",
      "+-------------+------------+--------+-----------------+\n",
      "only showing top 20 rows\n",
      "\n"
     ]
    },
    {
     "name": "stderr",
     "output_type": "stream",
     "text": [
      "                                                                                \r"
     ]
    }
   ],
   "source": [
    "predictions = lr_model.transform(vec_test_df)\n",
    "predictions.show()"
   ]
  },
  {
   "cell_type": "markdown",
   "id": "d08e48d5-3537-420c-a83d-8a6794d56f19",
   "metadata": {},
   "source": [
    "## 평가"
   ]
  },
  {
   "cell_type": "code",
   "execution_count": 30,
   "id": "dba160bd-052b-4447-a656-832b841adfb9",
   "metadata": {},
   "outputs": [
    {
     "name": "stdout",
     "output_type": "stream",
     "text": [
      "RMS: 6.5345\n",
      "R2: 0.8615\n"
     ]
    }
   ],
   "source": [
    "print(f'RMS: {lr_model.summary.rootMeanSquaredError :.4f}')\n",
    "print(f'R2: {lr_model.summary.r2 :.4f}')"
   ]
  },
  {
   "cell_type": "code",
   "execution_count": 31,
   "id": "3c9162ae-b26d-4022-833b-5f657baa649f",
   "metadata": {},
   "outputs": [],
   "source": [
    "spark.stop()"
   ]
  },
  {
   "cell_type": "markdown",
   "id": "1bb85389-d223-45d3-8b10-bafa8d3208d9",
   "metadata": {},
   "source": [
    "# ✅모델2. 다중 선형 회귀\n",
    "- feature들이 많다."
   ]
  },
  {
   "cell_type": "markdown",
   "metadata": {},
   "source": [
    "## 1️⃣ 데이터 불러오기"
   ]
  },
  {
   "cell_type": "code",
   "execution_count": 1,
   "metadata": {},
   "outputs": [
    {
     "name": "stderr",
     "output_type": "stream",
     "text": [
      "your 131072x1 screen size is bogus. expect trouble\n",
      "Warning: Ignoring non-Spark config property: spakr.executor.memory\n",
      "23/11/20 16:33:55 WARN Utils: Your hostname, JeeYeon resolves to a loopback address: 127.0.1.1; using 172.18.95.12 instead (on interface eth0)\n",
      "23/11/20 16:33:55 WARN Utils: Set SPARK_LOCAL_IP if you need to bind to another address\n",
      "WARNING: An illegal reflective access operation has occurred\n",
      "WARNING: Illegal reflective access by org.apache.spark.unsafe.Platform (file:/home/ubuntu/spark-3.2.4/jars/spark-unsafe_2.12-3.2.4.jar) to constructor java.nio.DirectByteBuffer(long,int)\n",
      "WARNING: Please consider reporting this to the maintainers of org.apache.spark.unsafe.Platform\n",
      "WARNING: Use --illegal-access=warn to enable warnings of further illegal reflective access operations\n",
      "WARNING: All illegal access operations will be denied in a future release\n",
      "Using Spark's default log4j profile: org/apache/spark/log4j-defaults.properties\n",
      "Setting default log level to \"WARN\".\n",
      "To adjust logging level use sc.setLogLevel(newLevel). For SparkR, use setLogLevel(newLevel).\n",
      "23/11/20 16:33:56 WARN NativeCodeLoader: Unable to load native-hadoop library for your platform... using builtin-java classes where applicable\n"
     ]
    }
   ],
   "source": [
    "from pyspark.sql import SparkSession\n",
    "\n",
    "MAX_MEMORY = '5g'\n",
    "\n",
    "spark = SparkSession.builder.appName('taxi_regression2')\\\n",
    "                            .config('spakr.executor.memory', MAX_MEMORY)\\\n",
    "                            .config('spark.driver.memory', MAX_MEMORY)\\\n",
    "                            .getOrCreate()"
   ]
  },
  {
   "cell_type": "code",
   "execution_count": 2,
   "metadata": {},
   "outputs": [],
   "source": [
    "taxi_filepath = '/home/ubuntu/working/taxi_analysis/data/taxi_parquet/*.parquet'\n",
    "taxi_df = spark.read.parquet(f\"file:///{taxi_filepath}\")\n",
    "taxi_df.createOrReplaceTempView('trips')"
   ]
  },
  {
   "cell_type": "code",
   "execution_count": 3,
   "metadata": {},
   "outputs": [
    {
     "data": {
      "text/plain": [
       "['VendorID',\n",
       " 'tpep_pickup_datetime',\n",
       " 'tpep_dropoff_datetime',\n",
       " 'passenger_count',\n",
       " 'trip_distance',\n",
       " 'RatecodeID',\n",
       " 'store_and_fwd_flag',\n",
       " 'PULocationID',\n",
       " 'DOLocationID',\n",
       " 'payment_type',\n",
       " 'fare_amount',\n",
       " 'extra',\n",
       " 'mta_tax',\n",
       " 'tip_amount',\n",
       " 'tolls_amount',\n",
       " 'improvement_surcharge',\n",
       " 'total_amount',\n",
       " 'congestion_surcharge',\n",
       " 'airport_fee']"
      ]
     },
     "execution_count": 3,
     "metadata": {},
     "output_type": "execute_result"
    }
   ],
   "source": [
    "taxi_df.columns"
   ]
  },
  {
   "cell_type": "code",
   "execution_count": 17,
   "id": "1a121cbb-e143-42ab-9cf7-1f62c029bb3d",
   "metadata": {},
   "outputs": [],
   "source": [
    "query = \"\"\"\n",
    "        SELECT \n",
    "            passenger_count,\n",
    "            PULocationID as pickup_location_id,\n",
    "            DOLocationID as dropoff_location_id,\n",
    "            trip_distance,\n",
    "            HOUR(tpep_pickup_datetime) as pickup_time,\n",
    "            DATE_FORMAT(TO_DATE(tpep_pickup_datetime), 'EEEE') AS day_of_week,\n",
    "            total_amount\n",
    "        FROM trips\n",
    "        WHERE (total_amount BETWEEN 0 AND 5000)\n",
    "        AND (trip_distance BETWEEN 0 AND 500)\n",
    "        AND passenger_count < 4\n",
    "        AND tpep_pickup_datetime BETWEEN '2022-01-01' AND '2022-06-30'\n",
    "\"\"\"\n",
    "data_df = spark.sql(query)\n",
    "data_df.createOrReplaceTempView(\"data\")"
   ]
  },
  {
   "cell_type": "markdown",
   "id": "9afe475d-4968-46bb-8e17-c2b0de7b22fe",
   "metadata": {},
   "source": [
    "## 2️⃣ 데이터 쪼개기"
   ]
  },
  {
   "cell_type": "code",
   "execution_count": 18,
   "metadata": {},
   "outputs": [],
   "source": [
    "train_df, test_df = data_df.randomSplit([0.8, 0.2], seed = 5)"
   ]
  },
  {
   "cell_type": "markdown",
   "id": "0bc966ef-72e5-45fc-83c1-ea3c28372d02",
   "metadata": {},
   "source": [
    "## 3️⃣ 데이터 parquet 저장하기"
   ]
  },
  {
   "cell_type": "code",
   "execution_count": 19,
   "metadata": {},
   "outputs": [
    {
     "name": "stderr",
     "output_type": "stream",
     "text": [
      "                                                                                \r"
     ]
    }
   ],
   "source": [
    "data_dir = '/home/ubuntu/working/taxi_analysis/data/train_test'\n",
    "\n",
    "train_df.write.mode('overwrite').format('parquet').save(f'{data_dir}/train/')\n",
    "test_df.write.mode('overwrite').format('parquet').save(f'{data_dir}/test/')"
   ]
  },
  {
   "cell_type": "markdown",
   "id": "77467d2e-8e03-46f2-8bcd-63b32f0636c1",
   "metadata": {},
   "source": [
    "## 4️⃣ parquet 불러오기"
   ]
  },
  {
   "cell_type": "code",
   "execution_count": 20,
   "metadata": {},
   "outputs": [],
   "source": [
    "data_dir = '/home/ubuntu/working/taxi_analysis/data/train_test'\n",
    "train_df = spark.read.parquet(f'file:///{data_dir}/train/*.parquet')\n",
    "test_df = spark.read.parquet(f'file:///{data_dir}/test/*.parquet')"
   ]
  },
  {
   "cell_type": "code",
   "execution_count": 21,
   "metadata": {},
   "outputs": [
    {
     "name": "stdout",
     "output_type": "stream",
     "text": [
      "root\n",
      " |-- passenger_count: double (nullable = true)\n",
      " |-- pickup_location_id: long (nullable = true)\n",
      " |-- dropoff_location_id: long (nullable = true)\n",
      " |-- trip_distance: double (nullable = true)\n",
      " |-- pickup_time: integer (nullable = true)\n",
      " |-- day_of_week: string (nullable = true)\n",
      " |-- total_amount: double (nullable = true)\n",
      "\n",
      "None\n",
      "\n",
      "root\n",
      " |-- passenger_count: double (nullable = true)\n",
      " |-- pickup_location_id: long (nullable = true)\n",
      " |-- dropoff_location_id: long (nullable = true)\n",
      " |-- trip_distance: double (nullable = true)\n",
      " |-- pickup_time: integer (nullable = true)\n",
      " |-- day_of_week: string (nullable = true)\n",
      " |-- total_amount: double (nullable = true)\n",
      "\n",
      "None\n"
     ]
    }
   ],
   "source": [
    "print(train_df.printSchema())\n",
    "print()\n",
    "print(test_df.printSchema())"
   ]
  },
  {
   "cell_type": "markdown",
   "id": "7fcdfb38-edfa-44f8-a4aa-15dbf0f6c2c7",
   "metadata": {},
   "source": [
    "## 5️⃣ 파이프라인 만들기"
   ]
  },
  {
   "cell_type": "code",
   "execution_count": 23,
   "metadata": {},
   "outputs": [
    {
     "name": "stdout",
     "output_type": "stream",
     "text": [
      "+---------------+------------------+-------------------+-------------+-----------+-----------+------------+\n",
      "|passenger_count|pickup_location_id|dropoff_location_id|trip_distance|pickup_time|day_of_week|total_amount|\n",
      "+---------------+------------------+-------------------+-------------+-----------+-----------+------------+\n",
      "|            0.0|                 1|                  1|          0.0|          0|     Friday|       100.8|\n",
      "|            0.0|                 1|                  1|          0.0|          0|     Friday|       100.8|\n",
      "|            0.0|                 1|                  1|          0.0|          3|  Wednesday|      110.46|\n",
      "|            0.0|                 1|                  1|          0.0|          4|     Monday|        0.31|\n",
      "|            0.0|                 1|                  1|          0.0|          5|     Sunday|        52.8|\n",
      "+---------------+------------------+-------------------+-------------+-----------+-----------+------------+\n",
      "only showing top 5 rows\n",
      "\n"
     ]
    }
   ],
   "source": [
    "train_df.show(5)"
   ]
  },
  {
   "cell_type": "code",
   "execution_count": 24,
   "id": "8978c781-cf60-4648-bc5e-66ff134bef5d",
   "metadata": {},
   "outputs": [],
   "source": [
    "stages= []"
   ]
  },
  {
   "cell_type": "markdown",
   "id": "6d322652-89d0-4fb3-8fae-3e724de4439e",
   "metadata": {},
   "source": [
    "### ① 원핫 인코딩\n",
    "- pickup_location_id, dropoff_location_id, day_of_week 을 원핫인코딩"
   ]
  },
  {
   "cell_type": "code",
   "execution_count": 25,
   "id": "68abea91-773a-4180-a96c-88b8521f3355",
   "metadata": {},
   "outputs": [
    {
     "data": {
      "text/plain": [
       "[StringIndexer_5efd1fa4696b,\n",
       " OneHotEncoder_e26aa21ac1dd,\n",
       " StringIndexer_0a43dca07884,\n",
       " OneHotEncoder_c691eed150a8,\n",
       " StringIndexer_d2da190cc9f0,\n",
       " OneHotEncoder_e91dbc8dd86f]"
      ]
     },
     "execution_count": 25,
     "metadata": {},
     "output_type": "execute_result"
    }
   ],
   "source": [
    "from pyspark.ml.feature import StringIndexer, OneHotEncoder\n",
    "\n",
    "cat_feature = ['pickup_location_id','dropoff_location_id','day_of_week']\n",
    "\n",
    "for c in cat_feature:\n",
    "    cat_indexer = StringIndexer(inputCol=c, outputCol=c+'_idx').setHandleInvalid('keep')  # setHandleInvalid('keep'): 변환 중 알 수 없는 값을 만나면 유지하라.\n",
    "    onehot_encoder = OneHotEncoder(inputCols=[cat_indexer.getOutputCol()], outputCols=[c+'_onehot'])\n",
    "    stages += [cat_indexer, onehot_encoder]\n",
    "\n",
    "stages"
   ]
  },
  {
   "cell_type": "markdown",
   "id": "b024e888-23a9-4578-8d4b-2307f4a92881",
   "metadata": {},
   "source": [
    "### ② Standard Scaler & Vector Assembler"
   ]
  },
  {
   "cell_type": "code",
   "execution_count": 26,
   "id": "4c9535a3-6577-4acb-8ce3-269416612f77",
   "metadata": {},
   "outputs": [
    {
     "data": {
      "text/plain": [
       "['passenger_count',\n",
       " 'pickup_location_id',\n",
       " 'dropoff_location_id',\n",
       " 'trip_distance',\n",
       " 'pickup_time',\n",
       " 'day_of_week',\n",
       " 'total_amount']"
      ]
     },
     "execution_count": 26,
     "metadata": {},
     "output_type": "execute_result"
    }
   ],
   "source": [
    "test_df.columns"
   ]
  },
  {
   "cell_type": "code",
   "execution_count": 27,
   "id": "6bf18e42-1dcb-4d8e-979d-4ed2f6e6c297",
   "metadata": {},
   "outputs": [
    {
     "data": {
      "text/plain": [
       "[StringIndexer_5efd1fa4696b,\n",
       " OneHotEncoder_e26aa21ac1dd,\n",
       " StringIndexer_0a43dca07884,\n",
       " OneHotEncoder_c691eed150a8,\n",
       " StringIndexer_d2da190cc9f0,\n",
       " OneHotEncoder_e91dbc8dd86f,\n",
       " VectorAssembler_48e91d90470d,\n",
       " StandardScaler_f69778e29741,\n",
       " VectorAssembler_b9a9a6122adc,\n",
       " StandardScaler_3aa4e2db3b82,\n",
       " VectorAssembler_cd0252c375df,\n",
       " StandardScaler_1923f71f55f4]"
      ]
     },
     "execution_count": 27,
     "metadata": {},
     "output_type": "execute_result"
    }
   ],
   "source": [
    "from pyspark.ml.feature import StandardScaler, VectorAssembler\n",
    "\n",
    "num_feature = ['passenger_count','trip_distance','pickup_time']\n",
    "\n",
    "for n in num_feature:\n",
    "    num_assembler = VectorAssembler(inputCols=[n], outputCol=n+'_vector')\n",
    "    num_scaler = StandardScaler(inputCol=num_assembler.getOutputCol(), outputCol=n+'_scaled')\n",
    "\n",
    "    stages += [num_assembler, num_scaler]\n",
    "\n",
    "stages"
   ]
  },
  {
   "cell_type": "markdown",
   "id": "ab5d1531-4d7a-4ec6-91fa-2c3b37f95add",
   "metadata": {},
   "source": [
    "### ③ vector로 변환한 특징들을 다시 벡터화 (한 컬럼으로 모으기)"
   ]
  },
  {
   "cell_type": "code",
   "execution_count": 28,
   "id": "03a90d42-65f4-4acb-9e31-1de753ea0f1a",
   "metadata": {},
   "outputs": [
    {
     "data": {
      "text/plain": [
       "['pickup_location_id_onehot',\n",
       " 'dropoff_location_id_onehot',\n",
       " 'day_of_week_onehot',\n",
       " 'passenger_count_scaled',\n",
       " 'trip_distance_scaled',\n",
       " 'pickup_time_scaled']"
      ]
     },
     "execution_count": 28,
     "metadata": {},
     "output_type": "execute_result"
    }
   ],
   "source": [
    "assembler_inputs = [c+'_onehot' for c in cat_feature] + [n+'_scaled' for n in num_feature]\n",
    "assembler_inputs"
   ]
  },
  {
   "cell_type": "code",
   "execution_count": 29,
   "id": "5585eb6d-6eab-4ae7-a445-16aec2e5f429",
   "metadata": {},
   "outputs": [
    {
     "data": {
      "text/plain": [
       "[StringIndexer_5efd1fa4696b,\n",
       " OneHotEncoder_e26aa21ac1dd,\n",
       " StringIndexer_0a43dca07884,\n",
       " OneHotEncoder_c691eed150a8,\n",
       " StringIndexer_d2da190cc9f0,\n",
       " OneHotEncoder_e91dbc8dd86f,\n",
       " VectorAssembler_48e91d90470d,\n",
       " StandardScaler_f69778e29741,\n",
       " VectorAssembler_b9a9a6122adc,\n",
       " StandardScaler_3aa4e2db3b82,\n",
       " VectorAssembler_cd0252c375df,\n",
       " StandardScaler_1923f71f55f4,\n",
       " VectorAssembler_091c3e8b3a0a]"
      ]
     },
     "execution_count": 29,
     "metadata": {},
     "output_type": "execute_result"
    }
   ],
   "source": [
    "total_assembler = VectorAssembler(inputCols=assembler_inputs, outputCol ='features')\n",
    "stages.append(total_assembler)\n",
    "stages"
   ]
  },
  {
   "cell_type": "markdown",
   "id": "24c44664-893d-4b2a-893d-24c73ef40abc",
   "metadata": {},
   "source": [
    "### ④ pipeline 생성"
   ]
  },
  {
   "cell_type": "code",
   "execution_count": 30,
   "id": "a68ab251-e022-4318-92ad-5d7b885127f5",
   "metadata": {},
   "outputs": [
    {
     "data": {
      "text/plain": [
       "Pipeline_f571961c2251"
      ]
     },
     "execution_count": 30,
     "metadata": {},
     "output_type": "execute_result"
    }
   ],
   "source": [
    "from pyspark.ml import Pipeline\n",
    "\n",
    "# 지금까지는 '전처리' 파이프라인\n",
    "pipeline = Pipeline(stages = stages)\n",
    "pipeline"
   ]
  },
  {
   "cell_type": "markdown",
   "id": "5e37e3e4-11bf-4948-bb55-4a82d4fc92e6",
   "metadata": {},
   "source": [
    "### ⑤ pipeline에 학습"
   ]
  },
  {
   "cell_type": "code",
   "execution_count": 31,
   "metadata": {},
   "outputs": [
    {
     "name": "stdout",
     "output_type": "stream",
     "text": [
      "+---------------+------------------+-------------------+-------------+-----------+-----------+------------+\n",
      "|passenger_count|pickup_location_id|dropoff_location_id|trip_distance|pickup_time|day_of_week|total_amount|\n",
      "+---------------+------------------+-------------------+-------------+-----------+-----------+------------+\n",
      "|            0.0|                 1|                  1|          0.0|          0|     Friday|       100.8|\n",
      "|            0.0|                 1|                  1|          0.0|          0|     Friday|       100.8|\n",
      "|            0.0|                 1|                  1|          0.0|          3|  Wednesday|      110.46|\n",
      "|            0.0|                 1|                  1|          0.0|          4|     Monday|        0.31|\n",
      "|            0.0|                 1|                  1|          0.0|          5|     Sunday|        52.8|\n",
      "|            0.0|                 1|                  1|          0.0|         14|     Friday|         3.8|\n",
      "|            0.0|                 1|                  1|          0.0|         16|   Saturday|      109.44|\n",
      "|            0.0|                 1|                  1|          0.0|         19|   Saturday|       30.35|\n",
      "|            0.0|                 1|                  1|          0.0|         20|   Saturday|      120.35|\n",
      "|            0.0|                 1|                  1|          0.0|         20|     Sunday|       88.55|\n",
      "|            0.0|                 1|                  1|          0.0|         23|   Thursday|       115.3|\n",
      "|            0.0|                 1|                  1|         0.01|          0|     Monday|       176.6|\n",
      "|            0.0|                 1|                  1|         0.01|          0|   Thursday|       81.55|\n",
      "|            0.0|                 1|                  1|          0.3|         23|     Friday|       120.3|\n",
      "|            0.0|                 1|                  1|          1.1|          2|   Thursday|       110.3|\n",
      "|            0.0|                 1|                  1|          1.9|         23|     Monday|      120.35|\n",
      "|            0.0|                 1|                233|         25.5|         18|     Monday|       120.3|\n",
      "|            0.0|                 3|                 51|          2.3|          2|     Friday|        10.8|\n",
      "|            0.0|                 4|                  4|          0.0|          4|     Friday|        14.8|\n",
      "|            0.0|                 4|                  4|          0.0|          4|  Wednesday|       80.15|\n",
      "+---------------+------------------+-------------------+-------------+-----------+-----------+------------+\n",
      "only showing top 20 rows\n",
      "\n"
     ]
    }
   ],
   "source": [
    "train_df.show()"
   ]
  },
  {
   "cell_type": "code",
   "execution_count": 15,
   "id": "8bad857c-4f14-47d6-839f-3cc524a852e3",
   "metadata": {},
   "outputs": [
    {
     "ename": "IllegalArgumentException",
     "evalue": "requirement failed: The input column pickup_location_id_idx should have at least two distinct values.",
     "output_type": "error",
     "traceback": [
      "\u001b[0;31m---------------------------------------------------------------------------\u001b[0m",
      "\u001b[0;31mIllegalArgumentException\u001b[0m                  Traceback (most recent call last)",
      "\u001b[1;32m/home/ubuntu/working/taxi_analysis/taxi_fare_prediction.ipynb 셀 54\u001b[0m line \u001b[0;36m1\n\u001b[0;32m----> <a href='vscode-notebook-cell://wsl%2Bubuntu/home/ubuntu/working/taxi_analysis/taxi_fare_prediction.ipynb#Y104sdnNjb2RlLXJlbW90ZQ%3D%3D?line=0'>1</a>\u001b[0m fitted_transformer \u001b[39m=\u001b[39m pipeline\u001b[39m.\u001b[39;49mfit(train_df)\n\u001b[1;32m      <a href='vscode-notebook-cell://wsl%2Bubuntu/home/ubuntu/working/taxi_analysis/taxi_fare_prediction.ipynb#Y104sdnNjb2RlLXJlbW90ZQ%3D%3D?line=1'>2</a>\u001b[0m fitted_transformer\n",
      "File \u001b[0;32m~/miniconda3/envs/spark-env/lib/python3.8/site-packages/pyspark/ml/base.py:161\u001b[0m, in \u001b[0;36mEstimator.fit\u001b[0;34m(self, dataset, params)\u001b[0m\n\u001b[1;32m    159\u001b[0m         \u001b[39mreturn\u001b[39;00m \u001b[39mself\u001b[39m\u001b[39m.\u001b[39mcopy(params)\u001b[39m.\u001b[39m_fit(dataset)\n\u001b[1;32m    160\u001b[0m     \u001b[39melse\u001b[39;00m:\n\u001b[0;32m--> 161\u001b[0m         \u001b[39mreturn\u001b[39;00m \u001b[39mself\u001b[39;49m\u001b[39m.\u001b[39;49m_fit(dataset)\n\u001b[1;32m    162\u001b[0m \u001b[39melse\u001b[39;00m:\n\u001b[1;32m    163\u001b[0m     \u001b[39mraise\u001b[39;00m \u001b[39mTypeError\u001b[39;00m(\u001b[39m\"\u001b[39m\u001b[39mParams must be either a param map or a list/tuple of param maps, \u001b[39m\u001b[39m\"\u001b[39m\n\u001b[1;32m    164\u001b[0m                     \u001b[39m\"\u001b[39m\u001b[39mbut got \u001b[39m\u001b[39m%s\u001b[39;00m\u001b[39m.\u001b[39m\u001b[39m\"\u001b[39m \u001b[39m%\u001b[39m \u001b[39mtype\u001b[39m(params))\n",
      "File \u001b[0;32m~/miniconda3/envs/spark-env/lib/python3.8/site-packages/pyspark/ml/pipeline.py:114\u001b[0m, in \u001b[0;36mPipeline._fit\u001b[0;34m(self, dataset)\u001b[0m\n\u001b[1;32m    112\u001b[0m     dataset \u001b[39m=\u001b[39m stage\u001b[39m.\u001b[39mtransform(dataset)\n\u001b[1;32m    113\u001b[0m \u001b[39melse\u001b[39;00m:  \u001b[39m# must be an Estimator\u001b[39;00m\n\u001b[0;32m--> 114\u001b[0m     model \u001b[39m=\u001b[39m stage\u001b[39m.\u001b[39;49mfit(dataset)\n\u001b[1;32m    115\u001b[0m     transformers\u001b[39m.\u001b[39mappend(model)\n\u001b[1;32m    116\u001b[0m     \u001b[39mif\u001b[39;00m i \u001b[39m<\u001b[39m indexOfLastEstimator:\n",
      "File \u001b[0;32m~/miniconda3/envs/spark-env/lib/python3.8/site-packages/pyspark/ml/base.py:161\u001b[0m, in \u001b[0;36mEstimator.fit\u001b[0;34m(self, dataset, params)\u001b[0m\n\u001b[1;32m    159\u001b[0m         \u001b[39mreturn\u001b[39;00m \u001b[39mself\u001b[39m\u001b[39m.\u001b[39mcopy(params)\u001b[39m.\u001b[39m_fit(dataset)\n\u001b[1;32m    160\u001b[0m     \u001b[39melse\u001b[39;00m:\n\u001b[0;32m--> 161\u001b[0m         \u001b[39mreturn\u001b[39;00m \u001b[39mself\u001b[39;49m\u001b[39m.\u001b[39;49m_fit(dataset)\n\u001b[1;32m    162\u001b[0m \u001b[39melse\u001b[39;00m:\n\u001b[1;32m    163\u001b[0m     \u001b[39mraise\u001b[39;00m \u001b[39mTypeError\u001b[39;00m(\u001b[39m\"\u001b[39m\u001b[39mParams must be either a param map or a list/tuple of param maps, \u001b[39m\u001b[39m\"\u001b[39m\n\u001b[1;32m    164\u001b[0m                     \u001b[39m\"\u001b[39m\u001b[39mbut got \u001b[39m\u001b[39m%s\u001b[39;00m\u001b[39m.\u001b[39m\u001b[39m\"\u001b[39m \u001b[39m%\u001b[39m \u001b[39mtype\u001b[39m(params))\n",
      "File \u001b[0;32m~/miniconda3/envs/spark-env/lib/python3.8/site-packages/pyspark/ml/wrapper.py:339\u001b[0m, in \u001b[0;36mJavaEstimator._fit\u001b[0;34m(self, dataset)\u001b[0m\n\u001b[1;32m    338\u001b[0m \u001b[39mdef\u001b[39;00m \u001b[39m_fit\u001b[39m(\u001b[39mself\u001b[39m, dataset):\n\u001b[0;32m--> 339\u001b[0m     java_model \u001b[39m=\u001b[39m \u001b[39mself\u001b[39;49m\u001b[39m.\u001b[39;49m_fit_java(dataset)\n\u001b[1;32m    340\u001b[0m     model \u001b[39m=\u001b[39m \u001b[39mself\u001b[39m\u001b[39m.\u001b[39m_create_model(java_model)\n\u001b[1;32m    341\u001b[0m     \u001b[39mreturn\u001b[39;00m \u001b[39mself\u001b[39m\u001b[39m.\u001b[39m_copyValues(model)\n",
      "File \u001b[0;32m~/miniconda3/envs/spark-env/lib/python3.8/site-packages/pyspark/ml/wrapper.py:336\u001b[0m, in \u001b[0;36mJavaEstimator._fit_java\u001b[0;34m(self, dataset)\u001b[0m\n\u001b[1;32m    322\u001b[0m \u001b[39m\u001b[39m\u001b[39m\"\"\"\u001b[39;00m\n\u001b[1;32m    323\u001b[0m \u001b[39mFits a Java model to the input dataset.\u001b[39;00m\n\u001b[1;32m    324\u001b[0m \n\u001b[0;32m   (...)\u001b[0m\n\u001b[1;32m    333\u001b[0m \u001b[39m    fitted Java model\u001b[39;00m\n\u001b[1;32m    334\u001b[0m \u001b[39m\"\"\"\u001b[39;00m\n\u001b[1;32m    335\u001b[0m \u001b[39mself\u001b[39m\u001b[39m.\u001b[39m_transfer_params_to_java()\n\u001b[0;32m--> 336\u001b[0m \u001b[39mreturn\u001b[39;00m \u001b[39mself\u001b[39;49m\u001b[39m.\u001b[39;49m_java_obj\u001b[39m.\u001b[39;49mfit(dataset\u001b[39m.\u001b[39;49m_jdf)\n",
      "File \u001b[0;32m~/miniconda3/envs/spark-env/lib/python3.8/site-packages/py4j/java_gateway.py:1321\u001b[0m, in \u001b[0;36mJavaMember.__call__\u001b[0;34m(self, *args)\u001b[0m\n\u001b[1;32m   1315\u001b[0m command \u001b[39m=\u001b[39m proto\u001b[39m.\u001b[39mCALL_COMMAND_NAME \u001b[39m+\u001b[39m\\\n\u001b[1;32m   1316\u001b[0m     \u001b[39mself\u001b[39m\u001b[39m.\u001b[39mcommand_header \u001b[39m+\u001b[39m\\\n\u001b[1;32m   1317\u001b[0m     args_command \u001b[39m+\u001b[39m\\\n\u001b[1;32m   1318\u001b[0m     proto\u001b[39m.\u001b[39mEND_COMMAND_PART\n\u001b[1;32m   1320\u001b[0m answer \u001b[39m=\u001b[39m \u001b[39mself\u001b[39m\u001b[39m.\u001b[39mgateway_client\u001b[39m.\u001b[39msend_command(command)\n\u001b[0;32m-> 1321\u001b[0m return_value \u001b[39m=\u001b[39m get_return_value(\n\u001b[1;32m   1322\u001b[0m     answer, \u001b[39mself\u001b[39;49m\u001b[39m.\u001b[39;49mgateway_client, \u001b[39mself\u001b[39;49m\u001b[39m.\u001b[39;49mtarget_id, \u001b[39mself\u001b[39;49m\u001b[39m.\u001b[39;49mname)\n\u001b[1;32m   1324\u001b[0m \u001b[39mfor\u001b[39;00m temp_arg \u001b[39min\u001b[39;00m temp_args:\n\u001b[1;32m   1325\u001b[0m     temp_arg\u001b[39m.\u001b[39m_detach()\n",
      "File \u001b[0;32m~/miniconda3/envs/spark-env/lib/python3.8/site-packages/pyspark/sql/utils.py:117\u001b[0m, in \u001b[0;36mcapture_sql_exception.<locals>.deco\u001b[0;34m(*a, **kw)\u001b[0m\n\u001b[1;32m    113\u001b[0m converted \u001b[39m=\u001b[39m convert_exception(e\u001b[39m.\u001b[39mjava_exception)\n\u001b[1;32m    114\u001b[0m \u001b[39mif\u001b[39;00m \u001b[39mnot\u001b[39;00m \u001b[39misinstance\u001b[39m(converted, UnknownException):\n\u001b[1;32m    115\u001b[0m     \u001b[39m# Hide where the exception came from that shows a non-Pythonic\u001b[39;00m\n\u001b[1;32m    116\u001b[0m     \u001b[39m# JVM exception message.\u001b[39;00m\n\u001b[0;32m--> 117\u001b[0m     \u001b[39mraise\u001b[39;00m converted \u001b[39mfrom\u001b[39;00m \u001b[39mNone\u001b[39;00m\n\u001b[1;32m    118\u001b[0m \u001b[39melse\u001b[39;00m:\n\u001b[1;32m    119\u001b[0m     \u001b[39mraise\u001b[39;00m\n",
      "\u001b[0;31mIllegalArgumentException\u001b[0m: requirement failed: The input column pickup_location_id_idx should have at least two distinct values."
     ]
    }
   ],
   "source": [
    "fitted_transformer = pipeline.fit(train_df)\n",
    "fitted_transformer"
   ]
  },
  {
   "cell_type": "code",
   "execution_count": 42,
   "id": "28b04035-55fe-4ad4-9922-d54ed75ad7d4",
   "metadata": {},
   "outputs": [
    {
     "name": "stdout",
     "output_type": "stream",
     "text": [
      "+---------------+------------------+-------------------+-------------+-----------+-----------+------------+\n",
      "|passenger_count|pickup_location_id|dropoff_location_id|trip_distance|pickup_time|day_of_week|total_amount|\n",
      "+---------------+------------------+-------------------+-------------+-----------+-----------+------------+\n",
      "|            0.0|                 1|                  1|          0.0|          0|     Sunday|       144.1|\n",
      "|            0.0|                 1|                  1|          0.0|          1|     Monday|       119.8|\n",
      "|            0.0|                 1|                  1|          0.0|          3|     Monday|        21.3|\n",
      "|            0.0|                 1|                  1|          0.0|          3|  Wednesday|         0.3|\n",
      "|            0.0|                 1|                  1|          0.0|         15|   Saturday|      114.35|\n",
      "|            0.0|                 1|                  1|          0.0|         15|    Tuesday|       110.3|\n",
      "|            0.0|                 1|                  1|          0.0|         17|   Saturday|      116.45|\n",
      "|            0.0|                 1|                  1|         0.04|          0|    Tuesday|       110.8|\n",
      "|            0.0|                 1|                  1|          0.1|          0|     Monday|      108.35|\n",
      "|            0.0|                 1|                  1|          0.4|         21|     Monday|      145.86|\n",
      "|            0.0|                 1|                  1|         14.2|         23|   Thursday|       100.3|\n",
      "|            0.0|                 1|                  1|         14.4|         23|   Thursday|         0.3|\n",
      "|            0.0|                 1|                  1|         14.7|         15|     Friday|       120.3|\n",
      "|            0.0|                 1|                  1|         16.7|         23|     Monday|        45.3|\n",
      "|            0.0|                 1|                  1|         18.1|         21|     Monday|       115.3|\n",
      "|            0.0|                 4|                  4|          0.0|          3|   Saturday|         6.8|\n",
      "|            0.0|                 4|                  4|          0.0|          4|     Friday|         0.3|\n",
      "|            0.0|                 4|                  4|          0.0|          4|     Friday|        33.3|\n",
      "|            0.0|                 4|                  4|          0.1|          9|     Sunday|         6.8|\n",
      "|            0.0|                 4|                 17|          4.0|         13|     Sunday|        18.3|\n",
      "+---------------+------------------+-------------------+-------------+-----------+-----------+------------+\n",
      "only showing top 20 rows\n",
      "\n"
     ]
    }
   ],
   "source": [
    "train_df.show()"
   ]
  },
  {
   "cell_type": "markdown",
   "id": "14854826-6bd5-4c3f-a0f2-375c308bfd3b",
   "metadata": {},
   "source": [
    "### ⑥ train_df 변환"
   ]
  },
  {
   "cell_type": "code",
   "execution_count": 24,
   "id": "b0ecb80d-403c-4078-a081-6aab57f9a875",
   "metadata": {},
   "outputs": [
    {
     "name": "stdout",
     "output_type": "stream",
     "text": [
      "root\n",
      " |-- passenger_count: double (nullable = true)\n",
      " |-- pickup_location_id: long (nullable = true)\n",
      " |-- dropoff_location_id: long (nullable = true)\n",
      " |-- trip_distance: double (nullable = true)\n",
      " |-- pickup_time: integer (nullable = true)\n",
      " |-- day_of_week: string (nullable = true)\n",
      " |-- total_amount: double (nullable = true)\n",
      " |-- pickup_location_id_idx: double (nullable = false)\n",
      " |-- pickup_location_id_onehot: vector (nullable = true)\n",
      " |-- dropoff_location_id_idx: double (nullable = false)\n",
      " |-- dropoff_location_id_onehot: vector (nullable = true)\n",
      " |-- day_of_week_idx: double (nullable = false)\n",
      " |-- day_of_week_onehot: vector (nullable = true)\n",
      " |-- passenger_count_vector: vector (nullable = true)\n",
      " |-- passenger_count_scaled: vector (nullable = true)\n",
      " |-- trip_distance_vector: vector (nullable = true)\n",
      " |-- trip_distance_scaled: vector (nullable = true)\n",
      " |-- pickup_time_vector: vector (nullable = true)\n",
      " |-- pickup_time_scaled: vector (nullable = true)\n",
      " |-- features: vector (nullable = true)\n",
      "\n"
     ]
    }
   ],
   "source": [
    "vec_train_df = fitted_transformer.transform(train_df)\n",
    "vec_test_df = fitted_transformer.transform(test_df)\n",
    "vec_train_df.printSchema()"
   ]
  },
  {
   "cell_type": "code",
   "execution_count": 25,
   "metadata": {},
   "outputs": [
    {
     "name": "stdout",
     "output_type": "stream",
     "text": [
      "+---------------+------------------+-------------------+-------------+-----------+-----------+------------+----------------------+-------------------------+-----------------------+--------------------------+---------------+------------------+----------------------+----------------------+--------------------+--------------------+------------------+--------------------+--------------------+\n",
      "|passenger_count|pickup_location_id|dropoff_location_id|trip_distance|pickup_time|day_of_week|total_amount|pickup_location_id_idx|pickup_location_id_onehot|dropoff_location_id_idx|dropoff_location_id_onehot|day_of_week_idx|day_of_week_onehot|passenger_count_vector|passenger_count_scaled|trip_distance_vector|trip_distance_scaled|pickup_time_vector|  pickup_time_scaled|            features|\n",
      "+---------------+------------------+-------------------+-------------+-----------+-----------+------------+----------------------+-------------------------+-----------------------+--------------------------+---------------+------------------+----------------------+----------------------+--------------------+--------------------+------------------+--------------------+--------------------+\n",
      "|            0.0|                 1|                  1|          0.0|          0|     Sunday|       144.1|                  78.0|         (262,[78],[1.0])|                   62.0|          (262,[62],[1.0])|            4.0|     (7,[4],[1.0])|                 [0.0]|                 [0.0]|               [0.0]|               [0.0]|             [0.0]|               [0.0]|(534,[78,324,528]...|\n",
      "|            0.0|                 1|                  1|          0.0|          1|     Monday|       119.8|                  78.0|         (262,[78],[1.0])|                   62.0|          (262,[62],[1.0])|            6.0|     (7,[6],[1.0])|                 [0.0]|                 [0.0]|               [0.0]|               [0.0]|             [1.0]|[0.12432331519727...|(534,[78,324,530,...|\n",
      "|            0.0|                 1|                  1|          0.0|          3|     Monday|        21.3|                  78.0|         (262,[78],[1.0])|                   62.0|          (262,[62],[1.0])|            6.0|     (7,[6],[1.0])|                 [0.0]|                 [0.0]|               [0.0]|               [0.0]|             [3.0]|[0.3729699455918286]|(534,[78,324,530,...|\n",
      "|            0.0|                 1|                  1|          0.0|          3|  Wednesday|         0.3|                  78.0|         (262,[78],[1.0])|                   62.0|          (262,[62],[1.0])|            3.0|     (7,[3],[1.0])|                 [0.0]|                 [0.0]|               [0.0]|               [0.0]|             [3.0]|[0.3729699455918286]|(534,[78,324,527,...|\n",
      "|            0.0|                 1|                  1|          0.0|         15|   Saturday|      114.35|                  78.0|         (262,[78],[1.0])|                   62.0|          (262,[62],[1.0])|            2.0|     (7,[2],[1.0])|                 [0.0]|                 [0.0]|               [0.0]|               [0.0]|            [15.0]|[1.8648497279591432]|(534,[78,324,526,...|\n",
      "|            0.0|                 1|                  1|          0.0|         15|    Tuesday|       110.3|                  78.0|         (262,[78],[1.0])|                   62.0|          (262,[62],[1.0])|            5.0|     (7,[5],[1.0])|                 [0.0]|                 [0.0]|               [0.0]|               [0.0]|            [15.0]|[1.8648497279591432]|(534,[78,324,529,...|\n",
      "|            0.0|                 1|                  1|          0.0|         17|   Saturday|      116.45|                  78.0|         (262,[78],[1.0])|                   62.0|          (262,[62],[1.0])|            2.0|     (7,[2],[1.0])|                 [0.0]|                 [0.0]|               [0.0]|               [0.0]|            [17.0]|[2.1134963583536956]|(534,[78,324,526,...|\n",
      "|            0.0|                 1|                  1|         0.04|          0|    Tuesday|       110.8|                  78.0|         (262,[78],[1.0])|                   62.0|          (262,[62],[1.0])|            5.0|     (7,[5],[1.0])|                 [0.0]|                 [0.0]|              [0.04]|[0.00893248209568...|             [0.0]|               [0.0]|(534,[78,324,529,...|\n",
      "|            0.0|                 1|                  1|          0.1|          0|     Monday|      108.35|                  78.0|         (262,[78],[1.0])|                   62.0|          (262,[62],[1.0])|            6.0|     (7,[6],[1.0])|                 [0.0]|                 [0.0]|               [0.1]|[0.02233120523921...|             [0.0]|               [0.0]|(534,[78,324,530,...|\n",
      "|            0.0|                 1|                  1|          0.4|         21|     Monday|      145.86|                  78.0|         (262,[78],[1.0])|                   62.0|          (262,[62],[1.0])|            6.0|     (7,[6],[1.0])|                 [0.0]|                 [0.0]|               [0.4]|[0.08932482095687...|            [21.0]|[2.6107896191428006]|(534,[78,324,530,...|\n",
      "|            0.0|                 1|                  1|         14.2|         23|   Thursday|       100.3|                  78.0|         (262,[78],[1.0])|                   62.0|          (262,[62],[1.0])|            1.0|     (7,[1],[1.0])|                 [0.0]|                 [0.0]|              [14.2]|[3.1710311439690044]|            [23.0]| [2.859436249537353]|(534,[78,324,525,...|\n",
      "|            0.0|                 1|                  1|         14.4|         23|   Thursday|         0.3|                  78.0|         (262,[78],[1.0])|                   62.0|          (262,[62],[1.0])|            1.0|     (7,[1],[1.0])|                 [0.0]|                 [0.0]|              [14.4]|[3.2156935544474416]|            [23.0]| [2.859436249537353]|(534,[78,324,525,...|\n",
      "|            0.0|                 1|                  1|         14.7|         15|     Friday|       120.3|                  78.0|         (262,[78],[1.0])|                   62.0|          (262,[62],[1.0])|            0.0|     (7,[0],[1.0])|                 [0.0]|                 [0.0]|              [14.7]|[3.2826871701650964]|            [15.0]|[1.8648497279591432]|(534,[78,324,524,...|\n",
      "|            0.0|                 1|                  1|         16.7|         23|     Monday|        45.3|                  78.0|         (262,[78],[1.0])|                   62.0|          (262,[62],[1.0])|            6.0|     (7,[6],[1.0])|                 [0.0]|                 [0.0]|              [16.7]|[3.7293112749494632]|            [23.0]| [2.859436249537353]|(534,[78,324,530,...|\n",
      "|            0.0|                 1|                  1|         18.1|         21|     Monday|       115.3|                  78.0|         (262,[78],[1.0])|                   62.0|          (262,[62],[1.0])|            6.0|     (7,[6],[1.0])|                 [0.0]|                 [0.0]|              [18.1]| [4.041948148298521]|            [21.0]|[2.6107896191428006]|(534,[78,324,530,...|\n",
      "|            0.0|                 4|                  4|          0.0|          3|   Saturday|         6.8|                  58.0|         (262,[58],[1.0])|                   52.0|          (262,[52],[1.0])|            2.0|     (7,[2],[1.0])|                 [0.0]|                 [0.0]|               [0.0]|               [0.0]|             [3.0]|[0.3729699455918286]|(534,[58,314,526,...|\n",
      "|            0.0|                 4|                  4|          0.0|          4|     Friday|         0.3|                  58.0|         (262,[58],[1.0])|                   52.0|          (262,[52],[1.0])|            0.0|     (7,[0],[1.0])|                 [0.0]|                 [0.0]|               [0.0]|               [0.0]|             [4.0]|[0.49729326078910...|(534,[58,314,524,...|\n",
      "|            0.0|                 4|                  4|          0.0|          4|     Friday|        33.3|                  58.0|         (262,[58],[1.0])|                   52.0|          (262,[52],[1.0])|            0.0|     (7,[0],[1.0])|                 [0.0]|                 [0.0]|               [0.0]|               [0.0]|             [4.0]|[0.49729326078910...|(534,[58,314,524,...|\n",
      "|            0.0|                 4|                  4|          0.1|          9|     Sunday|         6.8|                  58.0|         (262,[58],[1.0])|                   52.0|          (262,[52],[1.0])|            4.0|     (7,[4],[1.0])|                 [0.0]|                 [0.0]|               [0.1]|[0.02233120523921...|             [9.0]| [1.118909836775486]|(534,[58,314,528,...|\n",
      "|            0.0|                 4|                 17|          4.0|         13|     Sunday|        18.3|                  58.0|         (262,[58],[1.0])|                   83.0|          (262,[83],[1.0])|            4.0|     (7,[4],[1.0])|                 [0.0]|                 [0.0]|               [4.0]|[0.8932482095687337]|            [13.0]|[1.6162030975645907]|(534,[58,345,528,...|\n",
      "+---------------+------------------+-------------------+-------------+-----------+-----------+------------+----------------------+-------------------------+-----------------------+--------------------------+---------------+------------------+----------------------+----------------------+--------------------+--------------------+------------------+--------------------+--------------------+\n",
      "only showing top 20 rows\n",
      "\n"
     ]
    }
   ],
   "source": [
    "vec_train_df.show()"
   ]
  },
  {
   "cell_type": "code",
   "execution_count": 27,
   "id": "173734ba-8bbc-4a56-b4a8-222adb8daaae",
   "metadata": {},
   "outputs": [
    {
     "name": "stdout",
     "output_type": "stream",
     "text": [
      "+--------------------+\n",
      "|            features|\n",
      "+--------------------+\n",
      "|(534,[78,324,528]...|\n",
      "|(534,[78,324,530,...|\n",
      "|(534,[78,324,530,...|\n",
      "|(534,[78,324,527,...|\n",
      "|(534,[78,324,526,...|\n",
      "|(534,[78,324,529,...|\n",
      "|(534,[78,324,526,...|\n",
      "|(534,[78,324,529,...|\n",
      "|(534,[78,324,530,...|\n",
      "|(534,[78,324,530,...|\n",
      "|(534,[78,324,525,...|\n",
      "|(534,[78,324,525,...|\n",
      "|(534,[78,324,524,...|\n",
      "|(534,[78,324,530,...|\n",
      "|(534,[78,324,530,...|\n",
      "|(534,[58,314,526,...|\n",
      "|(534,[58,314,524,...|\n",
      "|(534,[58,314,524,...|\n",
      "|(534,[58,314,528,...|\n",
      "|(534,[58,345,528,...|\n",
      "+--------------------+\n",
      "only showing top 20 rows\n",
      "\n"
     ]
    }
   ],
   "source": [
    "vec_train_df.select('features').show()"
   ]
  },
  {
   "cell_type": "markdown",
   "id": "2c517567-8e15-4fe0-b139-a947e063d992",
   "metadata": {},
   "source": [
    "## 6️⃣ 모델 생성"
   ]
  },
  {
   "cell_type": "code",
   "execution_count": 28,
   "id": "d9faf633-8a84-43d5-b6df-044949e54471",
   "metadata": {},
   "outputs": [
    {
     "name": "stderr",
     "output_type": "stream",
     "text": [
      "23/11/20 10:53:47 WARN Instrumentation: [6590050c] regParam is zero, which might cause numerical instability and overfitting.\n",
      "23/11/20 10:54:20 WARN InstanceBuilder$NativeBLAS: Failed to load implementation from:dev.ludovic.netlib.blas.JNIBLAS\n",
      "23/11/20 10:54:20 WARN InstanceBuilder$NativeBLAS: Failed to load implementation from:dev.ludovic.netlib.blas.ForeignLinkerBLAS\n",
      "23/11/20 10:54:33 WARN InstanceBuilder$NativeLAPACK: Failed to load implementation from:dev.ludovic.netlib.lapack.JNILAPACK\n",
      "23/11/20 10:54:33 WARN Instrumentation: [6590050c] Cholesky solver failed due to singular covariance matrix. Retrying with Quasi-Newton solver.\n",
      "23/11/20 10:54:34 WARN BLAS: Failed to load implementation from: com.github.fommil.netlib.NativeSystemBLAS\n",
      "23/11/20 10:54:34 WARN BLAS: Failed to load implementation from: com.github.fommil.netlib.NativeRefBLAS\n",
      "                                                                                \r"
     ]
    }
   ],
   "source": [
    "from pyspark.ml.regression import LinearRegression\n",
    "\n",
    "lr = LinearRegression(\n",
    "    maxIter=50,\n",
    "    solver='normal',\n",
    "    labelCol = 'total_amount',\n",
    "    featuresCol = 'features'\n",
    ")\n",
    "\n",
    "model = lr.fit(vec_train_df)"
   ]
  },
  {
   "cell_type": "markdown",
   "id": "461969b0-96cd-44f9-a9a0-257bc3408c86",
   "metadata": {},
   "source": [
    "## 7️⃣ 예측"
   ]
  },
  {
   "cell_type": "code",
   "execution_count": 29,
   "id": "00e96e57-634a-4625-9d15-eb65beb96afa",
   "metadata": {},
   "outputs": [
    {
     "name": "stdout",
     "output_type": "stream",
     "text": [
      "+---------------+------------------+-------------------+-------------+-----------+-----------+------------+----------------------+-------------------------+-----------------------+--------------------------+---------------+------------------+----------------------+----------------------+--------------------+--------------------+------------------+--------------------+--------------------+------------------+\n",
      "|passenger_count|pickup_location_id|dropoff_location_id|trip_distance|pickup_time|day_of_week|total_amount|pickup_location_id_idx|pickup_location_id_onehot|dropoff_location_id_idx|dropoff_location_id_onehot|day_of_week_idx|day_of_week_onehot|passenger_count_vector|passenger_count_scaled|trip_distance_vector|trip_distance_scaled|pickup_time_vector|  pickup_time_scaled|            features|        prediction|\n",
      "+---------------+------------------+-------------------+-------------+-----------+-----------+------------+----------------------+-------------------------+-----------------------+--------------------------+---------------+------------------+----------------------+----------------------+--------------------+--------------------+------------------+--------------------+--------------------+------------------+\n",
      "|            0.0|                 1|                  1|          0.0|         15|     Sunday|        51.8|                  78.0|         (262,[78],[1.0])|                   62.0|          (262,[62],[1.0])|            4.0|     (7,[4],[1.0])|                 [0.0]|                 [0.0]|               [0.0]|               [0.0]|            [15.0]|[1.8648497279591432]|(534,[78,324,528,...|104.58168466558868|\n",
      "|            0.0|                 1|                  1|          0.0|         17|     Friday|        0.31|                  78.0|         (262,[78],[1.0])|                   62.0|          (262,[62],[1.0])|            0.0|     (7,[0],[1.0])|                 [0.0]|                 [0.0]|               [0.0]|               [0.0]|            [17.0]|[2.1134963583536956]|(534,[78,324,524,...|105.52036895554467|\n",
      "|            0.0|                 1|                  1|          0.0|         17|   Saturday|      146.74|                  78.0|         (262,[78],[1.0])|                   62.0|          (262,[62],[1.0])|            2.0|     (7,[2],[1.0])|                 [0.0]|                 [0.0]|               [0.0]|               [0.0]|            [17.0]|[2.1134963583536956]|(534,[78,324,526,...|104.97395984417888|\n",
      "|            0.0|                 1|                  1|          0.0|         23|     Sunday|         3.3|                  78.0|         (262,[78],[1.0])|                   62.0|          (262,[62],[1.0])|            4.0|     (7,[4],[1.0])|                 [0.0]|                 [0.0]|               [0.0]|               [0.0]|            [23.0]| [2.859436249537353]|(534,[78,324,528,...|104.29349506583364|\n",
      "|            0.0|                 1|                  1|          1.4|         23|     Sunday|       120.3|                  78.0|         (262,[78],[1.0])|                   62.0|          (262,[62],[1.0])|            4.0|     (7,[4],[1.0])|                 [0.0]|                 [0.0]|               [1.4]|[0.31263687334905...|            [23.0]| [2.859436249537353]|(534,[78,324,528,...|108.59964737843553|\n",
      "|            0.0|                 1|                  1|         14.4|         22|   Thursday|         0.3|                  78.0|         (262,[78],[1.0])|                   62.0|          (262,[62],[1.0])|            1.0|     (7,[1],[1.0])|                 [0.0]|                 [0.0]|              [14.4]|[3.2156935544474416]|            [22.0]| [2.735112934340077]|(534,[78,324,525,...|149.72170232330845|\n",
      "|            0.0|                 1|                  1|         14.4|         23|   Thursday|         0.3|                  78.0|         (262,[78],[1.0])|                   62.0|          (262,[62],[1.0])|            1.0|     (7,[1],[1.0])|                 [0.0]|                 [0.0]|              [14.4]|[3.2156935544474416]|            [23.0]| [2.859436249537353]|(534,[78,324,525,...|149.68567862333907|\n",
      "|            0.0|                 1|                  1|         17.5|          1|    Tuesday|         0.3|                  78.0|         (262,[78],[1.0])|                   62.0|          (262,[62],[1.0])|            5.0|     (7,[5],[1.0])|                 [0.0]|                 [0.0]|              [17.5]|[3.9079609168632103]|             [1.0]|[0.12432331519727...|(534,[78,324,529,...|159.59087099322747|\n",
      "|            0.0|                 1|                163|         17.9|          4|    Tuesday|       67.55|                  78.0|         (262,[78],[1.0])|                   11.0|          (262,[11],[1.0])|            5.0|     (7,[5],[1.0])|                 [0.0]|                 [0.0]|              [17.9]| [3.997285737820083]|             [4.0]|[0.49729326078910...|(534,[78,273,529,...| 125.5079047176771|\n",
      "|            0.0|                 1|                265|         8.17|          1|     Monday|       120.3|                  78.0|         (262,[78],[1.0])|                   55.0|          (262,[55],[1.0])|            6.0|     (7,[6],[1.0])|                 [0.0]|                 [0.0]|              [8.17]|[1.8244594680441386]|             [1.0]|[0.12432331519727...|(534,[78,317,530,...|118.76274372699892|\n",
      "|            0.0|                 4|                  4|          0.4|         11|   Saturday|         7.3|                  58.0|         (262,[58],[1.0])|                   52.0|          (262,[52],[1.0])|            2.0|     (7,[2],[1.0])|                 [0.0]|                 [0.0]|               [0.4]|[0.08932482095687...|            [11.0]|[1.3675564671700384]|(534,[58,314,526,...|10.943646127284332|\n",
      "|            0.0|                 4|                107|          1.6|         20|  Wednesday|        11.8|                  58.0|         (262,[58],[1.0])|                   20.0|          (262,[20],[1.0])|            3.0|     (7,[3],[1.0])|                 [0.0]|                 [0.0]|               [1.6]|[0.35729928382749...|            [20.0]|[2.4864663039455244]|(534,[58,282,527,...|14.937834835206088|\n",
      "|            0.0|                 4|                113|          1.6|         18|  Wednesday|       12.35|                  58.0|         (262,[58],[1.0])|                   33.0|          (262,[33],[1.0])|            3.0|     (7,[3],[1.0])|                 [0.0]|                 [0.0]|               [1.6]|[0.35729928382749...|            [18.0]| [2.237819673550972]|(534,[58,295,527,...| 15.33485370659359|\n",
      "|            0.0|                 4|                114|          0.8|          6|   Saturday|       12.95|                  58.0|         (262,[58],[1.0])|                   39.0|          (262,[39],[1.0])|            2.0|     (7,[2],[1.0])|                 [0.0]|                 [0.0]|               [0.8]|[0.17864964191374...|             [6.0]|[0.7459398911836572]|(534,[58,301,526,...|12.756230843970203|\n",
      "|            0.0|                 4|                114|          1.3|          4|     Sunday|       13.35|                  58.0|         (262,[58],[1.0])|                   39.0|          (262,[39],[1.0])|            4.0|     (7,[4],[1.0])|                 [0.0]|                 [0.0]|               [1.3]|[0.2903056681098385]|             [4.0]|[0.49729326078910...|(534,[58,301,528,...|13.901867205594954|\n",
      "|            0.0|                 4|                148|          1.3|          2|     Sunday|        10.8|                  58.0|         (262,[58],[1.0])|                   36.0|          (262,[36],[1.0])|            4.0|     (7,[4],[1.0])|                 [0.0]|                 [0.0]|               [1.3]|[0.2903056681098385]|             [2.0]|[0.24864663039455...|(534,[58,298,528,...| 14.51687162140938|\n",
      "|            0.0|                 4|                158|          6.3|          8|    Tuesday|       30.35|                  58.0|         (262,[58],[1.0])|                   38.0|          (262,[38],[1.0])|            5.0|     (7,[5],[1.0])|                 [0.0]|                 [0.0]|               [6.3]|[1.4068659300707556]|             [8.0]|[0.9945865215782097]|(534,[58,300,529,...|  29.8619472715986|\n",
      "|            0.0|                 4|                162|          2.7|         18|   Saturday|        16.8|                  58.0|         (262,[58],[1.0])|                    8.0|           (262,[8],[1.0])|            2.0|     (7,[2],[1.0])|                 [0.0]|                 [0.0]|               [2.7]|[0.6029425414588954]|            [18.0]| [2.237819673550972]|(534,[58,270,526,...| 18.40428003405629|\n",
      "|            0.0|                 4|                162|          2.8|         12|   Saturday|        15.8|                  58.0|         (262,[58],[1.0])|                    8.0|           (262,[8],[1.0])|            2.0|     (7,[2],[1.0])|                 [0.0]|                 [0.0]|               [2.8]|[0.6252737466981135]|            [12.0]|[1.4918797823673144]|(534,[58,270,526,...|18.928004541915563|\n",
      "|            0.0|                 4|                170|          2.1|          8|     Sunday|        15.3|                  58.0|         (262,[58],[1.0])|                    3.0|           (262,[3],[1.0])|            4.0|     (7,[4],[1.0])|                 [0.0]|                 [0.0]|               [2.1]|[0.46895531002358...|             [8.0]|[0.9945865215782097]|(534,[58,265,528,...|16.410312503835975|\n",
      "+---------------+------------------+-------------------+-------------+-----------+-----------+------------+----------------------+-------------------------+-----------------------+--------------------------+---------------+------------------+----------------------+----------------------+--------------------+--------------------+------------------+--------------------+--------------------+------------------+\n",
      "only showing top 20 rows\n",
      "\n"
     ]
    }
   ],
   "source": [
    "predictions = model.transform(vec_test_df)\n",
    "predictions.show()"
   ]
  },
  {
   "cell_type": "code",
   "execution_count": 30,
   "id": "7983f95f-a4f6-480d-8370-f296d5bfa435",
   "metadata": {
    "scrolled": true
   },
   "outputs": [
    {
     "name": "stdout",
     "output_type": "stream",
     "text": [
      "+-------------+-----------+------------+------------------+\n",
      "|trip_distance|day_of_week|total_amount|        prediction|\n",
      "+-------------+-----------+------------+------------------+\n",
      "|          0.0|     Sunday|        51.8|104.58168466558868|\n",
      "|          0.0|     Friday|        0.31|105.52036895554467|\n",
      "|          0.0|   Saturday|      146.74|104.97395984417888|\n",
      "|          0.0|     Sunday|         3.3|104.29349506583364|\n",
      "|          1.4|     Sunday|       120.3|108.59964737843553|\n",
      "|         14.4|   Thursday|         0.3|149.72170232330845|\n",
      "|         14.4|   Thursday|         0.3|149.68567862333907|\n",
      "|         17.5|    Tuesday|         0.3|159.59087099322747|\n",
      "|         17.9|    Tuesday|       67.55| 125.5079047176771|\n",
      "|         8.17|     Monday|       120.3|118.76274372699892|\n",
      "|          0.4|   Saturday|         7.3|10.943646127284332|\n",
      "|          1.6|  Wednesday|        11.8|14.937834835206088|\n",
      "|          1.6|  Wednesday|       12.35| 15.33485370659359|\n",
      "|          0.8|   Saturday|       12.95|12.756230843970203|\n",
      "|          1.3|     Sunday|       13.35|13.901867205594954|\n",
      "|          1.3|     Sunday|        10.8| 14.51687162140938|\n",
      "|          6.3|    Tuesday|       30.35|  29.8619472715986|\n",
      "|          2.7|   Saturday|        16.8| 18.40428003405629|\n",
      "|          2.8|   Saturday|        15.8|18.928004541915563|\n",
      "|          2.1|     Sunday|        15.3|16.410312503835975|\n",
      "+-------------+-----------+------------+------------------+\n",
      "only showing top 20 rows\n",
      "\n"
     ]
    }
   ],
   "source": [
    "predictions.select('trip_distance','day_of_week','total_amount','prediction').show()"
   ]
  },
  {
   "cell_type": "markdown",
   "id": "95ce3376-4c1c-49e0-8f44-e22d8d331a05",
   "metadata": {},
   "source": [
    "## 8️⃣ 평가"
   ]
  },
  {
   "cell_type": "code",
   "execution_count": 31,
   "id": "34336ce4-bc33-489f-ac8b-6ae66625e1ab",
   "metadata": {},
   "outputs": [
    {
     "name": "stdout",
     "output_type": "stream",
     "text": [
      "RMSE: 7.438260562770492\n",
      "R2: 0.8165924586821984\n"
     ]
    }
   ],
   "source": [
    "print(f'RMSE: {model.summary.rootMeanSquaredError}')\n",
    "print(f'R2: {model.summary.r2}')"
   ]
  },
  {
   "cell_type": "code",
   "execution_count": 32,
   "id": "c818da4d-5609-4f7c-b51a-5acb7b0e1ba6",
   "metadata": {
    "scrolled": true
   },
   "outputs": [],
   "source": [
    "spark.stop()"
   ]
  },
  {
   "cell_type": "markdown",
   "id": "21b69487-a66c-41a3-9132-0040cf35cb3b",
   "metadata": {},
   "source": [
    "# ✅ 모델2 + 하이퍼 파라미터 조정"
   ]
  },
  {
   "cell_type": "markdown",
   "metadata": {},
   "source": [
    "## 1️⃣ train_df, test_df.parquet 가져오기"
   ]
  },
  {
   "cell_type": "code",
   "execution_count": 34,
   "id": "18bbfe68-269c-4854-b86c-46b499d90b95",
   "metadata": {},
   "outputs": [],
   "source": [
    "from pyspark.sql import SparkSession\n",
    "\n",
    "# out of memory 방지를 위해 max memory 설정\n",
    "MAX_MEMORY=\"5g\"\n",
    "\n",
    "spark = SparkSession.builder.appName(\"taxi-fare-prediction\")\\\n",
    "                    .config(\"spark.executor.memory\", MAX_MEMORY)\\\n",
    "                                    .config(\"spark.driver.memory\", MAX_MEMORY)\\\n",
    "                                    .getOrCreate()"
   ]
  },
  {
   "cell_type": "code",
   "execution_count": 35,
   "id": "f6c8914b-3ce2-4b28-8166-c2aa7a45a55c",
   "metadata": {},
   "outputs": [],
   "source": [
    "# 저장된 train, test dataset 불러오기\n",
    "data_dir = '/home/ubuntu/working/taxi_analysis/data/train_test'\n",
    "train_df = spark.read.parquet(f'file:///{data_dir}/train/*.parquet')\n",
    "test_df = spark.read.parquet(f'file:///{data_dir}/test/*.parquet')"
   ]
  },
  {
   "cell_type": "code",
   "execution_count": 36,
   "id": "e065c310-1f96-4241-a1da-bc503e08a54c",
   "metadata": {},
   "outputs": [
    {
     "data": {
      "text/plain": [
       "28848178"
      ]
     },
     "execution_count": 36,
     "metadata": {},
     "output_type": "execute_result"
    }
   ],
   "source": [
    "train_df.count()"
   ]
  },
  {
   "cell_type": "markdown",
   "id": "7e9c237d-1ea1-40bc-9445-ba0dcefed462",
   "metadata": {},
   "source": [
    "## 2️⃣ 파이프라인"
   ]
  },
  {
   "cell_type": "code",
   "execution_count": 37,
   "id": "db7b3597-b4e9-4aaf-8f36-3a9776c328eb",
   "metadata": {},
   "outputs": [
    {
     "data": {
      "text/plain": [
       "['passenger_count',\n",
       " 'pickup_location_id',\n",
       " 'dropoff_location_id',\n",
       " 'trip_distance',\n",
       " 'pickup_time',\n",
       " 'day_of_week',\n",
       " 'total_amount']"
      ]
     },
     "execution_count": 37,
     "metadata": {},
     "output_type": "execute_result"
    }
   ],
   "source": [
    "train_df.columns"
   ]
  },
  {
   "cell_type": "code",
   "execution_count": 38,
   "id": "d9947f21-68d8-44d8-83f5-c5d487dd5914",
   "metadata": {},
   "outputs": [
    {
     "data": {
      "text/plain": [
       "[StringIndexer_c1a4df188e5f,\n",
       " OneHotEncoder_5749c04c6069,\n",
       " StringIndexer_e93ecf9b71a4,\n",
       " OneHotEncoder_e0e38d6d2a73,\n",
       " StringIndexer_0145424826e2,\n",
       " OneHotEncoder_ff17d895fcc2,\n",
       " VectorAssembler_e6791f431d74,\n",
       " StandardScaler_b4873f092bf7,\n",
       " VectorAssembler_d48fd817c161,\n",
       " StandardScaler_895ffe478e01,\n",
       " VectorAssembler_64662387fcfa,\n",
       " StandardScaler_c9af2c3e57ba]"
      ]
     },
     "execution_count": 38,
     "metadata": {},
     "output_type": "execute_result"
    }
   ],
   "source": [
    "from pyspark.ml.feature import StringIndexer, OneHotEncoder, StandardScaler, VectorAssembler\n",
    "stages = []\n",
    "\n",
    "# string변환 -> 원핫 인코딩\n",
    "cat_cols = ['pickup_location_id',\n",
    "         'dropoff_location_id',\n",
    "         'day_of_week']\n",
    "\n",
    "for col in cat_cols:\n",
    "    string_col = StringIndexer(inputCol=col, outputCol=col+'_str').setHandleInvalid('keep')\n",
    "    oh_encoder = OneHotEncoder(inputCols=[string_col.getOutputCol()], outputCols=[col+'_oh'])\n",
    "\n",
    "    stages += [string_col, oh_encoder]\n",
    "\n",
    "num_cols = ['passenger_count',\n",
    "         'trip_distance',\n",
    "         'pickup_time',\n",
    "           ]\n",
    "\n",
    "for col in num_cols:\n",
    "    num_assembler  = VectorAssembler(inputCols= [col], outputCol= col+'_vector')\n",
    "    num_scaler = StandardScaler(inputCol= num_assembler.getOutputCol(), outputCol=col+'_scaled' )\n",
    "\n",
    "    stages += [num_assembler, num_scaler]\n",
    "\n",
    "stages\n"
   ]
  },
  {
   "cell_type": "code",
   "execution_count": 39,
   "id": "2f9f2905-2bd2-42ef-8472-50525ad8d68d",
   "metadata": {},
   "outputs": [
    {
     "data": {
      "text/plain": [
       "[StringIndexer_c1a4df188e5f,\n",
       " OneHotEncoder_5749c04c6069,\n",
       " StringIndexer_e93ecf9b71a4,\n",
       " OneHotEncoder_e0e38d6d2a73,\n",
       " StringIndexer_0145424826e2,\n",
       " OneHotEncoder_ff17d895fcc2,\n",
       " VectorAssembler_e6791f431d74,\n",
       " StandardScaler_b4873f092bf7,\n",
       " VectorAssembler_d48fd817c161,\n",
       " StandardScaler_895ffe478e01,\n",
       " VectorAssembler_64662387fcfa,\n",
       " StandardScaler_c9af2c3e57ba,\n",
       " VectorAssembler_9856f23a3722]"
      ]
     },
     "execution_count": 39,
     "metadata": {},
     "output_type": "execute_result"
    }
   ],
   "source": [
    "assembler_inputs= [col+'_oh' for col in cat_cols] + [num + '_scaled' for num in num_cols]\n",
    "assembler = VectorAssembler(inputCols=assembler_inputs, outputCol='feature_vector')\n",
    "\n",
    "stages += [assembler]\n",
    "stages"
   ]
  },
  {
   "cell_type": "markdown",
   "id": "d9cb3689-87e9-4900-92b5-a46bb7775e86",
   "metadata": {},
   "source": [
    "### 하이퍼 파라미터 튜닝"
   ]
  },
  {
   "cell_type": "code",
   "execution_count": 40,
   "id": "6ee01ba4-5798-4011-add1-696f71ae735b",
   "metadata": {},
   "outputs": [],
   "source": [
    "from pyspark.ml import Pipeline\n",
    "from pyspark.ml.regression import LinearRegression\n",
    "from pyspark.ml.tuning import CrossValidator, ParamGridBuilder\n",
    "from pyspark.ml.evaluation import RegressionEvaluator"
   ]
  },
  {
   "cell_type": "markdown",
   "id": "f3749251-7a85-4b93-a002-579a0ea3a041",
   "metadata": {},
   "source": [
    "#### 모델 생성"
   ]
  },
  {
   "cell_type": "code",
   "execution_count": 41,
   "id": "f381e14e-fa8e-44d2-8c32-a91f4d643e87",
   "metadata": {},
   "outputs": [
    {
     "data": {
      "text/plain": [
       "[StringIndexer_c1a4df188e5f,\n",
       " OneHotEncoder_5749c04c6069,\n",
       " StringIndexer_e93ecf9b71a4,\n",
       " OneHotEncoder_e0e38d6d2a73,\n",
       " StringIndexer_0145424826e2,\n",
       " OneHotEncoder_ff17d895fcc2,\n",
       " VectorAssembler_e6791f431d74,\n",
       " StandardScaler_b4873f092bf7,\n",
       " VectorAssembler_d48fd817c161,\n",
       " StandardScaler_895ffe478e01,\n",
       " VectorAssembler_64662387fcfa,\n",
       " StandardScaler_c9af2c3e57ba,\n",
       " VectorAssembler_9856f23a3722,\n",
       " LinearRegression_385b2866d12d]"
      ]
     },
     "execution_count": 41,
     "metadata": {},
     "output_type": "execute_result"
    }
   ],
   "source": [
    "lr = LinearRegression(\n",
    "    maxIter= 30,\n",
    "    solver = 'normal',\n",
    "    labelCol = 'total_amount',\n",
    "    featuresCol = 'feature_vector')\n",
    "\n",
    "cv_stages = stages + [lr]\n",
    "cv_stages\n",
    "    "
   ]
  },
  {
   "cell_type": "code",
   "execution_count": 42,
   "id": "ba57c826-6e6b-4ccc-82ba-f1f9fe84bee6",
   "metadata": {},
   "outputs": [],
   "source": [
    "cv_pipeline = Pipeline(stages = cv_stages)"
   ]
  },
  {
   "cell_type": "markdown",
   "id": "76392447-a05c-4eb3-a06a-d0f4d48126f1",
   "metadata": {},
   "source": [
    "### Gridsearch , Crossvalidation 설정"
   ]
  },
  {
   "cell_type": "markdown",
   "id": "1b89c44c-8a4f-4255-ae5d-9b0a447e6075",
   "metadata": {},
   "source": [
    "- GridSearch"
   ]
  },
  {
   "cell_type": "code",
   "execution_count": 45,
   "id": "536b12f5-e9a5-45ea-a4ef-9e2b2926df54",
   "metadata": {},
   "outputs": [
    {
     "data": {
      "text/plain": [
       "[{Param(parent='LinearRegression_385b2866d12d', name='elasticNetParam', doc='the ElasticNet mixing parameter, in range [0, 1]. For alpha = 0, the penalty is an L2 penalty. For alpha = 1, it is an L1 penalty.'): 0.0,\n",
       "  Param(parent='LinearRegression_385b2866d12d', name='regParam', doc='regularization parameter (>= 0).'): 0.0},\n",
       " {Param(parent='LinearRegression_385b2866d12d', name='elasticNetParam', doc='the ElasticNet mixing parameter, in range [0, 1]. For alpha = 0, the penalty is an L2 penalty. For alpha = 1, it is an L1 penalty.'): 0.0,\n",
       "  Param(parent='LinearRegression_385b2866d12d', name='regParam', doc='regularization parameter (>= 0).'): 0.01},\n",
       " {Param(parent='LinearRegression_385b2866d12d', name='elasticNetParam', doc='the ElasticNet mixing parameter, in range [0, 1]. For alpha = 0, the penalty is an L2 penalty. For alpha = 1, it is an L1 penalty.'): 0.0,\n",
       "  Param(parent='LinearRegression_385b2866d12d', name='regParam', doc='regularization parameter (>= 0).'): 0.02},\n",
       " {Param(parent='LinearRegression_385b2866d12d', name='elasticNetParam', doc='the ElasticNet mixing parameter, in range [0, 1]. For alpha = 0, the penalty is an L2 penalty. For alpha = 1, it is an L1 penalty.'): 0.0,\n",
       "  Param(parent='LinearRegression_385b2866d12d', name='regParam', doc='regularization parameter (>= 0).'): 0.03},\n",
       " {Param(parent='LinearRegression_385b2866d12d', name='elasticNetParam', doc='the ElasticNet mixing parameter, in range [0, 1]. For alpha = 0, the penalty is an L2 penalty. For alpha = 1, it is an L1 penalty.'): 0.0,\n",
       "  Param(parent='LinearRegression_385b2866d12d', name='regParam', doc='regularization parameter (>= 0).'): 0.04},\n",
       " {Param(parent='LinearRegression_385b2866d12d', name='elasticNetParam', doc='the ElasticNet mixing parameter, in range [0, 1]. For alpha = 0, the penalty is an L2 penalty. For alpha = 1, it is an L1 penalty.'): 0.0,\n",
       "  Param(parent='LinearRegression_385b2866d12d', name='regParam', doc='regularization parameter (>= 0).'): 0.05},\n",
       " {Param(parent='LinearRegression_385b2866d12d', name='elasticNetParam', doc='the ElasticNet mixing parameter, in range [0, 1]. For alpha = 0, the penalty is an L2 penalty. For alpha = 1, it is an L1 penalty.'): 0.1,\n",
       "  Param(parent='LinearRegression_385b2866d12d', name='regParam', doc='regularization parameter (>= 0).'): 0.0},\n",
       " {Param(parent='LinearRegression_385b2866d12d', name='elasticNetParam', doc='the ElasticNet mixing parameter, in range [0, 1]. For alpha = 0, the penalty is an L2 penalty. For alpha = 1, it is an L1 penalty.'): 0.1,\n",
       "  Param(parent='LinearRegression_385b2866d12d', name='regParam', doc='regularization parameter (>= 0).'): 0.01},\n",
       " {Param(parent='LinearRegression_385b2866d12d', name='elasticNetParam', doc='the ElasticNet mixing parameter, in range [0, 1]. For alpha = 0, the penalty is an L2 penalty. For alpha = 1, it is an L1 penalty.'): 0.1,\n",
       "  Param(parent='LinearRegression_385b2866d12d', name='regParam', doc='regularization parameter (>= 0).'): 0.02},\n",
       " {Param(parent='LinearRegression_385b2866d12d', name='elasticNetParam', doc='the ElasticNet mixing parameter, in range [0, 1]. For alpha = 0, the penalty is an L2 penalty. For alpha = 1, it is an L1 penalty.'): 0.1,\n",
       "  Param(parent='LinearRegression_385b2866d12d', name='regParam', doc='regularization parameter (>= 0).'): 0.03},\n",
       " {Param(parent='LinearRegression_385b2866d12d', name='elasticNetParam', doc='the ElasticNet mixing parameter, in range [0, 1]. For alpha = 0, the penalty is an L2 penalty. For alpha = 1, it is an L1 penalty.'): 0.1,\n",
       "  Param(parent='LinearRegression_385b2866d12d', name='regParam', doc='regularization parameter (>= 0).'): 0.04},\n",
       " {Param(parent='LinearRegression_385b2866d12d', name='elasticNetParam', doc='the ElasticNet mixing parameter, in range [0, 1]. For alpha = 0, the penalty is an L2 penalty. For alpha = 1, it is an L1 penalty.'): 0.1,\n",
       "  Param(parent='LinearRegression_385b2866d12d', name='regParam', doc='regularization parameter (>= 0).'): 0.05},\n",
       " {Param(parent='LinearRegression_385b2866d12d', name='elasticNetParam', doc='the ElasticNet mixing parameter, in range [0, 1]. For alpha = 0, the penalty is an L2 penalty. For alpha = 1, it is an L1 penalty.'): 0.2,\n",
       "  Param(parent='LinearRegression_385b2866d12d', name='regParam', doc='regularization parameter (>= 0).'): 0.0},\n",
       " {Param(parent='LinearRegression_385b2866d12d', name='elasticNetParam', doc='the ElasticNet mixing parameter, in range [0, 1]. For alpha = 0, the penalty is an L2 penalty. For alpha = 1, it is an L1 penalty.'): 0.2,\n",
       "  Param(parent='LinearRegression_385b2866d12d', name='regParam', doc='regularization parameter (>= 0).'): 0.01},\n",
       " {Param(parent='LinearRegression_385b2866d12d', name='elasticNetParam', doc='the ElasticNet mixing parameter, in range [0, 1]. For alpha = 0, the penalty is an L2 penalty. For alpha = 1, it is an L1 penalty.'): 0.2,\n",
       "  Param(parent='LinearRegression_385b2866d12d', name='regParam', doc='regularization parameter (>= 0).'): 0.02},\n",
       " {Param(parent='LinearRegression_385b2866d12d', name='elasticNetParam', doc='the ElasticNet mixing parameter, in range [0, 1]. For alpha = 0, the penalty is an L2 penalty. For alpha = 1, it is an L1 penalty.'): 0.2,\n",
       "  Param(parent='LinearRegression_385b2866d12d', name='regParam', doc='regularization parameter (>= 0).'): 0.03},\n",
       " {Param(parent='LinearRegression_385b2866d12d', name='elasticNetParam', doc='the ElasticNet mixing parameter, in range [0, 1]. For alpha = 0, the penalty is an L2 penalty. For alpha = 1, it is an L1 penalty.'): 0.2,\n",
       "  Param(parent='LinearRegression_385b2866d12d', name='regParam', doc='regularization parameter (>= 0).'): 0.04},\n",
       " {Param(parent='LinearRegression_385b2866d12d', name='elasticNetParam', doc='the ElasticNet mixing parameter, in range [0, 1]. For alpha = 0, the penalty is an L2 penalty. For alpha = 1, it is an L1 penalty.'): 0.2,\n",
       "  Param(parent='LinearRegression_385b2866d12d', name='regParam', doc='regularization parameter (>= 0).'): 0.05},\n",
       " {Param(parent='LinearRegression_385b2866d12d', name='elasticNetParam', doc='the ElasticNet mixing parameter, in range [0, 1]. For alpha = 0, the penalty is an L2 penalty. For alpha = 1, it is an L1 penalty.'): 0.3,\n",
       "  Param(parent='LinearRegression_385b2866d12d', name='regParam', doc='regularization parameter (>= 0).'): 0.0},\n",
       " {Param(parent='LinearRegression_385b2866d12d', name='elasticNetParam', doc='the ElasticNet mixing parameter, in range [0, 1]. For alpha = 0, the penalty is an L2 penalty. For alpha = 1, it is an L1 penalty.'): 0.3,\n",
       "  Param(parent='LinearRegression_385b2866d12d', name='regParam', doc='regularization parameter (>= 0).'): 0.01},\n",
       " {Param(parent='LinearRegression_385b2866d12d', name='elasticNetParam', doc='the ElasticNet mixing parameter, in range [0, 1]. For alpha = 0, the penalty is an L2 penalty. For alpha = 1, it is an L1 penalty.'): 0.3,\n",
       "  Param(parent='LinearRegression_385b2866d12d', name='regParam', doc='regularization parameter (>= 0).'): 0.02},\n",
       " {Param(parent='LinearRegression_385b2866d12d', name='elasticNetParam', doc='the ElasticNet mixing parameter, in range [0, 1]. For alpha = 0, the penalty is an L2 penalty. For alpha = 1, it is an L1 penalty.'): 0.3,\n",
       "  Param(parent='LinearRegression_385b2866d12d', name='regParam', doc='regularization parameter (>= 0).'): 0.03},\n",
       " {Param(parent='LinearRegression_385b2866d12d', name='elasticNetParam', doc='the ElasticNet mixing parameter, in range [0, 1]. For alpha = 0, the penalty is an L2 penalty. For alpha = 1, it is an L1 penalty.'): 0.3,\n",
       "  Param(parent='LinearRegression_385b2866d12d', name='regParam', doc='regularization parameter (>= 0).'): 0.04},\n",
       " {Param(parent='LinearRegression_385b2866d12d', name='elasticNetParam', doc='the ElasticNet mixing parameter, in range [0, 1]. For alpha = 0, the penalty is an L2 penalty. For alpha = 1, it is an L1 penalty.'): 0.3,\n",
       "  Param(parent='LinearRegression_385b2866d12d', name='regParam', doc='regularization parameter (>= 0).'): 0.05},\n",
       " {Param(parent='LinearRegression_385b2866d12d', name='elasticNetParam', doc='the ElasticNet mixing parameter, in range [0, 1]. For alpha = 0, the penalty is an L2 penalty. For alpha = 1, it is an L1 penalty.'): 0.4,\n",
       "  Param(parent='LinearRegression_385b2866d12d', name='regParam', doc='regularization parameter (>= 0).'): 0.0},\n",
       " {Param(parent='LinearRegression_385b2866d12d', name='elasticNetParam', doc='the ElasticNet mixing parameter, in range [0, 1]. For alpha = 0, the penalty is an L2 penalty. For alpha = 1, it is an L1 penalty.'): 0.4,\n",
       "  Param(parent='LinearRegression_385b2866d12d', name='regParam', doc='regularization parameter (>= 0).'): 0.01},\n",
       " {Param(parent='LinearRegression_385b2866d12d', name='elasticNetParam', doc='the ElasticNet mixing parameter, in range [0, 1]. For alpha = 0, the penalty is an L2 penalty. For alpha = 1, it is an L1 penalty.'): 0.4,\n",
       "  Param(parent='LinearRegression_385b2866d12d', name='regParam', doc='regularization parameter (>= 0).'): 0.02},\n",
       " {Param(parent='LinearRegression_385b2866d12d', name='elasticNetParam', doc='the ElasticNet mixing parameter, in range [0, 1]. For alpha = 0, the penalty is an L2 penalty. For alpha = 1, it is an L1 penalty.'): 0.4,\n",
       "  Param(parent='LinearRegression_385b2866d12d', name='regParam', doc='regularization parameter (>= 0).'): 0.03},\n",
       " {Param(parent='LinearRegression_385b2866d12d', name='elasticNetParam', doc='the ElasticNet mixing parameter, in range [0, 1]. For alpha = 0, the penalty is an L2 penalty. For alpha = 1, it is an L1 penalty.'): 0.4,\n",
       "  Param(parent='LinearRegression_385b2866d12d', name='regParam', doc='regularization parameter (>= 0).'): 0.04},\n",
       " {Param(parent='LinearRegression_385b2866d12d', name='elasticNetParam', doc='the ElasticNet mixing parameter, in range [0, 1]. For alpha = 0, the penalty is an L2 penalty. For alpha = 1, it is an L1 penalty.'): 0.4,\n",
       "  Param(parent='LinearRegression_385b2866d12d', name='regParam', doc='regularization parameter (>= 0).'): 0.05},\n",
       " {Param(parent='LinearRegression_385b2866d12d', name='elasticNetParam', doc='the ElasticNet mixing parameter, in range [0, 1]. For alpha = 0, the penalty is an L2 penalty. For alpha = 1, it is an L1 penalty.'): 0.5,\n",
       "  Param(parent='LinearRegression_385b2866d12d', name='regParam', doc='regularization parameter (>= 0).'): 0.0},\n",
       " {Param(parent='LinearRegression_385b2866d12d', name='elasticNetParam', doc='the ElasticNet mixing parameter, in range [0, 1]. For alpha = 0, the penalty is an L2 penalty. For alpha = 1, it is an L1 penalty.'): 0.5,\n",
       "  Param(parent='LinearRegression_385b2866d12d', name='regParam', doc='regularization parameter (>= 0).'): 0.01},\n",
       " {Param(parent='LinearRegression_385b2866d12d', name='elasticNetParam', doc='the ElasticNet mixing parameter, in range [0, 1]. For alpha = 0, the penalty is an L2 penalty. For alpha = 1, it is an L1 penalty.'): 0.5,\n",
       "  Param(parent='LinearRegression_385b2866d12d', name='regParam', doc='regularization parameter (>= 0).'): 0.02},\n",
       " {Param(parent='LinearRegression_385b2866d12d', name='elasticNetParam', doc='the ElasticNet mixing parameter, in range [0, 1]. For alpha = 0, the penalty is an L2 penalty. For alpha = 1, it is an L1 penalty.'): 0.5,\n",
       "  Param(parent='LinearRegression_385b2866d12d', name='regParam', doc='regularization parameter (>= 0).'): 0.03},\n",
       " {Param(parent='LinearRegression_385b2866d12d', name='elasticNetParam', doc='the ElasticNet mixing parameter, in range [0, 1]. For alpha = 0, the penalty is an L2 penalty. For alpha = 1, it is an L1 penalty.'): 0.5,\n",
       "  Param(parent='LinearRegression_385b2866d12d', name='regParam', doc='regularization parameter (>= 0).'): 0.04},\n",
       " {Param(parent='LinearRegression_385b2866d12d', name='elasticNetParam', doc='the ElasticNet mixing parameter, in range [0, 1]. For alpha = 0, the penalty is an L2 penalty. For alpha = 1, it is an L1 penalty.'): 0.5,\n",
       "  Param(parent='LinearRegression_385b2866d12d', name='regParam', doc='regularization parameter (>= 0).'): 0.05}]"
      ]
     },
     "execution_count": 45,
     "metadata": {},
     "output_type": "execute_result"
    }
   ],
   "source": [
    "param_grid = ParamGridBuilder()\\\n",
    "                .addGrid(lr.elasticNetParam, [0, 0.1, 0.2, 0.3, 0.4, 0.5])\\\n",
    "                .addGrid(lr.regParam, [0, 0.01, 0.02, 0.03, 0.04, 0.05])\\\n",
    "                .build()\n",
    "# regParam: 정규화 매개변수(값↑, 정규화 강도↑)(값↑, 모델 단순)                \n",
    "param_grid"
   ]
  },
  {
   "cell_type": "markdown",
   "id": "9af8a04a-518c-4e3e-85fa-5f1b145926e0",
   "metadata": {},
   "source": [
    "- cross validation\n",
    "    - **CrossValidator의 estimator에 pipeline을 넣는 경우, pipeline의 마지막 stage가 model이어야 함.**\n",
    "    - 그래서 기존 pipeline에 lr모델까지 포함한 cv_pipeline을 따로 만든 것."
   ]
  },
  {
   "cell_type": "code",
   "execution_count": 46,
   "id": "523d7db7-bbb1-45cc-ace4-3b4297c7b61c",
   "metadata": {},
   "outputs": [
    {
     "data": {
      "text/plain": [
       "CrossValidator_67f7226a05c2"
      ]
     },
     "execution_count": 46,
     "metadata": {},
     "output_type": "execute_result"
    }
   ],
   "source": [
    "cross_val = CrossValidator(\n",
    "        estimator= cv_pipeline, # pipeline 맨 끝에 model이 있으니까\n",
    "        estimatorParamMaps= param_grid, # gridsearch 할 parameter들의 목록\n",
    "                                        # 이거 없으면 gridsearch 없이 cross val만 진행\n",
    "        evaluator=RegressionEvaluator(labelCol='total_amount'),\n",
    "        numFolds=5\n",
    ")\n",
    "\n",
    "cross_val"
   ]
  },
  {
   "cell_type": "markdown",
   "id": "5a6b2608-7c6c-4b21-855e-5cff5472ee2b",
   "metadata": {},
   "source": [
    "## 3️⃣ 훈련\n",
    "- 전체 데이터로 gridsearch를 하면 너무 오래걸리기 때문에 샘플링을 하겠다."
   ]
  },
  {
   "cell_type": "code",
   "execution_count": 47,
   "id": "6f66f2df-16a1-44de-9c5c-a670f8218332",
   "metadata": {},
   "outputs": [
    {
     "name": "stderr",
     "output_type": "stream",
     "text": [
      "23/11/20 12:02:53 WARN Instrumentation: [4e011c33] regParam is zero, which might cause numerical instability and overfitting.\n",
      "23/11/20 12:02:58 WARN Instrumentation: [4e011c33] Cholesky solver failed due to singular covariance matrix. Retrying with Quasi-Newton solver.\n",
      "23/11/20 12:04:18 WARN Instrumentation: [8972c10f] regParam is zero, which might cause numerical instability and overfitting.\n",
      "23/11/20 12:04:23 WARN Instrumentation: [8972c10f] Cholesky solver failed due to singular covariance matrix. Retrying with Quasi-Newton solver.\n",
      "23/11/20 12:05:44 WARN Instrumentation: [2c8b71a2] regParam is zero, which might cause numerical instability and overfitting.\n",
      "23/11/20 12:05:48 WARN Instrumentation: [2c8b71a2] Cholesky solver failed due to singular covariance matrix. Retrying with Quasi-Newton solver.\n",
      "23/11/20 12:07:09 WARN Instrumentation: [1f85a7d5] regParam is zero, which might cause numerical instability and overfitting.\n",
      "23/11/20 12:07:13 WARN Instrumentation: [1f85a7d5] Cholesky solver failed due to singular covariance matrix. Retrying with Quasi-Newton solver.\n",
      "23/11/20 12:08:31 WARN Instrumentation: [818fd260] regParam is zero, which might cause numerical instability and overfitting.\n",
      "23/11/20 12:08:35 WARN Instrumentation: [818fd260] Cholesky solver failed due to singular covariance matrix. Retrying with Quasi-Newton solver.\n",
      "23/11/20 12:09:53 WARN Instrumentation: [cfa43d1e] regParam is zero, which might cause numerical instability and overfitting.\n",
      "23/11/20 12:09:58 WARN Instrumentation: [cfa43d1e] Cholesky solver failed due to singular covariance matrix. Retrying with Quasi-Newton solver.\n",
      "23/11/20 12:11:18 WARN Instrumentation: [b0861454] regParam is zero, which might cause numerical instability and overfitting.\n",
      "23/11/20 12:11:23 WARN Instrumentation: [b0861454] Cholesky solver failed due to singular covariance matrix. Retrying with Quasi-Newton solver.\n",
      "23/11/20 12:12:37 WARN Instrumentation: [356919c4] regParam is zero, which might cause numerical instability and overfitting.\n",
      "23/11/20 12:12:42 WARN Instrumentation: [356919c4] Cholesky solver failed due to singular covariance matrix. Retrying with Quasi-Newton solver.\n",
      "23/11/20 12:14:00 WARN Instrumentation: [5f0b64e8] regParam is zero, which might cause numerical instability and overfitting.\n",
      "23/11/20 12:14:05 WARN Instrumentation: [5f0b64e8] Cholesky solver failed due to singular covariance matrix. Retrying with Quasi-Newton solver.\n",
      "23/11/20 12:15:19 WARN Instrumentation: [1ce358fe] regParam is zero, which might cause numerical instability and overfitting.\n",
      "23/11/20 12:15:23 WARN Instrumentation: [1ce358fe] Cholesky solver failed due to singular covariance matrix. Retrying with Quasi-Newton solver.\n",
      "23/11/20 12:16:40 WARN Instrumentation: [e3669136] regParam is zero, which might cause numerical instability and overfitting.\n",
      "23/11/20 12:16:44 WARN Instrumentation: [e3669136] Cholesky solver failed due to singular covariance matrix. Retrying with Quasi-Newton solver.\n",
      "23/11/20 12:17:58 WARN Instrumentation: [d428807a] regParam is zero, which might cause numerical instability and overfitting.\n",
      "23/11/20 12:18:03 WARN Instrumentation: [d428807a] Cholesky solver failed due to singular covariance matrix. Retrying with Quasi-Newton solver.\n",
      "23/11/20 12:19:23 WARN Instrumentation: [a644bbba] regParam is zero, which might cause numerical instability and overfitting.\n",
      "23/11/20 12:19:28 WARN Instrumentation: [a644bbba] Cholesky solver failed due to singular covariance matrix. Retrying with Quasi-Newton solver.\n",
      "23/11/20 12:20:44 WARN Instrumentation: [86caf2a6] regParam is zero, which might cause numerical instability and overfitting.\n",
      "23/11/20 12:20:49 WARN Instrumentation: [86caf2a6] Cholesky solver failed due to singular covariance matrix. Retrying with Quasi-Newton solver.\n",
      "23/11/20 12:22:02 WARN Instrumentation: [5596c330] regParam is zero, which might cause numerical instability and overfitting.\n",
      "23/11/20 12:22:06 WARN Instrumentation: [5596c330] Cholesky solver failed due to singular covariance matrix. Retrying with Quasi-Newton solver.\n",
      "23/11/20 12:23:21 WARN Instrumentation: [b3bf031c] regParam is zero, which might cause numerical instability and overfitting.\n",
      "23/11/20 12:23:26 WARN Instrumentation: [b3bf031c] Cholesky solver failed due to singular covariance matrix. Retrying with Quasi-Newton solver.\n",
      "23/11/20 12:24:41 WARN Instrumentation: [51a03203] regParam is zero, which might cause numerical instability and overfitting.\n",
      "23/11/20 12:24:45 WARN Instrumentation: [51a03203] Cholesky solver failed due to singular covariance matrix. Retrying with Quasi-Newton solver.\n",
      "23/11/20 12:26:13 WARN Instrumentation: [af1cc043] regParam is zero, which might cause numerical instability and overfitting.\n",
      "23/11/20 12:26:18 WARN Instrumentation: [af1cc043] Cholesky solver failed due to singular covariance matrix. Retrying with Quasi-Newton solver.\n",
      "23/11/20 12:27:41 WARN Instrumentation: [0d75bff5] regParam is zero, which might cause numerical instability and overfitting.\n",
      "23/11/20 12:27:46 WARN Instrumentation: [0d75bff5] Cholesky solver failed due to singular covariance matrix. Retrying with Quasi-Newton solver.\n",
      "23/11/20 12:29:07 WARN Instrumentation: [1c935a77] regParam is zero, which might cause numerical instability and overfitting.\n",
      "23/11/20 12:29:11 WARN Instrumentation: [1c935a77] Cholesky solver failed due to singular covariance matrix. Retrying with Quasi-Newton solver.\n",
      "23/11/20 12:30:30 WARN Instrumentation: [0a6b00ec] regParam is zero, which might cause numerical instability and overfitting.\n",
      "23/11/20 12:30:35 WARN Instrumentation: [0a6b00ec] Cholesky solver failed due to singular covariance matrix. Retrying with Quasi-Newton solver.\n",
      "23/11/20 12:31:49 WARN Instrumentation: [924ddc8b] regParam is zero, which might cause numerical instability and overfitting.\n",
      "23/11/20 12:31:53 WARN Instrumentation: [924ddc8b] Cholesky solver failed due to singular covariance matrix. Retrying with Quasi-Newton solver.\n",
      "23/11/20 12:33:11 WARN Instrumentation: [176dd1fe] regParam is zero, which might cause numerical instability and overfitting.\n",
      "23/11/20 12:33:15 WARN Instrumentation: [176dd1fe] Cholesky solver failed due to singular covariance matrix. Retrying with Quasi-Newton solver.\n",
      "23/11/20 12:34:28 WARN Instrumentation: [0ef1ac3b] regParam is zero, which might cause numerical instability and overfitting.\n",
      "23/11/20 12:34:33 WARN Instrumentation: [0ef1ac3b] Cholesky solver failed due to singular covariance matrix. Retrying with Quasi-Newton solver.\n",
      "23/11/20 12:35:51 WARN Instrumentation: [53a7c116] regParam is zero, which might cause numerical instability and overfitting.\n",
      "23/11/20 12:35:56 WARN Instrumentation: [53a7c116] Cholesky solver failed due to singular covariance matrix. Retrying with Quasi-Newton solver.\n",
      "23/11/20 12:37:08 WARN Instrumentation: [5d390791] regParam is zero, which might cause numerical instability and overfitting.\n",
      "23/11/20 12:37:13 WARN Instrumentation: [5d390791] Cholesky solver failed due to singular covariance matrix. Retrying with Quasi-Newton solver.\n",
      "23/11/20 12:38:30 WARN Instrumentation: [a440ad62] regParam is zero, which might cause numerical instability and overfitting.\n",
      "23/11/20 12:38:35 WARN Instrumentation: [a440ad62] Cholesky solver failed due to singular covariance matrix. Retrying with Quasi-Newton solver.\n",
      "23/11/20 12:39:51 WARN Instrumentation: [5a6084a0] regParam is zero, which might cause numerical instability and overfitting.\n",
      "23/11/20 12:39:56 WARN Instrumentation: [5a6084a0] Cholesky solver failed due to singular covariance matrix. Retrying with Quasi-Newton solver.\n",
      "23/11/20 12:41:13 WARN Instrumentation: [f9879216] regParam is zero, which might cause numerical instability and overfitting.\n",
      "23/11/20 12:41:18 WARN Instrumentation: [f9879216] Cholesky solver failed due to singular covariance matrix. Retrying with Quasi-Newton solver.\n",
      "23/11/20 12:42:37 WARN Instrumentation: [15aa03a5] regParam is zero, which might cause numerical instability and overfitting.\n",
      "23/11/20 12:42:42 WARN Instrumentation: [15aa03a5] Cholesky solver failed due to singular covariance matrix. Retrying with Quasi-Newton solver.\n",
      "                                                                                \r"
     ]
    }
   ],
   "source": [
    "toy_df = train_df.sample(False, 0.1, seed=1)\n",
    "\n",
    "cv_model = cross_val.fit(toy_df)"
   ]
  },
  {
   "cell_type": "markdown",
   "id": "684136ef-4e41-4004-b375-c32636ce6cbb",
   "metadata": {},
   "source": [
    "## 4️⃣ Best Model 찾기"
   ]
  },
  {
   "cell_type": "code",
   "execution_count": 48,
   "id": "4aba3fb2-b52d-4551-b735-f92cbba57413",
   "metadata": {},
   "outputs": [],
   "source": [
    "best_alpha = cv_model.bestModel.stages[-1]._java_obj.getElasticNetParam()\n",
    "best_reg_param = cv_model.bestModel.stages[-1]._java_obj.getRegParam()"
   ]
  },
  {
   "cell_type": "code",
   "execution_count": 49,
   "id": "e8b8300f-1577-4042-9e26-7d5b02e84089",
   "metadata": {},
   "outputs": [
    {
     "data": {
      "text/plain": [
       "(0.1, 0.01)"
      ]
     },
     "execution_count": 49,
     "metadata": {},
     "output_type": "execute_result"
    }
   ],
   "source": [
    "best_alpha, best_reg_param"
   ]
  },
  {
   "cell_type": "markdown",
   "id": "be965483-df4c-4149-b542-c67ac9cabf68",
   "metadata": {},
   "source": [
    "## 5️⃣ BEST MODEL로 모델 돌리기"
   ]
  },
  {
   "cell_type": "code",
   "execution_count": 50,
   "id": "6427e576-6673-4584-a259-246ab5e24d16",
   "metadata": {},
   "outputs": [
    {
     "name": "stderr",
     "output_type": "stream",
     "text": [
      "                                                                                \r"
     ]
    }
   ],
   "source": [
    "pipeline = Pipeline(stages= stages)\n",
    "fitted_transformer = pipeline.fit(train_df)"
   ]
  },
  {
   "cell_type": "code",
   "execution_count": 51,
   "id": "0b8c3134-1ac0-4e32-9225-f802d237fc84",
   "metadata": {},
   "outputs": [],
   "source": [
    "vec_train_df = fitted_transformer.transform(train_df)"
   ]
  },
  {
   "cell_type": "code",
   "execution_count": 52,
   "id": "0d8dd65a-d6f7-4263-8969-e89040f8db9f",
   "metadata": {},
   "outputs": [],
   "source": [
    "vec_test_df = fitted_transformer.transform(test_df)"
   ]
  },
  {
   "cell_type": "code",
   "execution_count": 53,
   "id": "fb3803f9-72a9-4478-96d8-dfe93fd338d7",
   "metadata": {},
   "outputs": [],
   "source": [
    "lr = LinearRegression(\n",
    "    maxIter = 50,\n",
    "    solver = 'normal',\n",
    "    labelCol = 'total_amount',\n",
    "    featuresCol = 'feature_vector',\n",
    "    elasticNetParam = best_alpha,\n",
    "    regParam = best_reg_param\n",
    ")"
   ]
  },
  {
   "cell_type": "code",
   "execution_count": 54,
   "id": "be7588ca-ea54-46b0-94a4-c9b6e7554f77",
   "metadata": {},
   "outputs": [
    {
     "name": "stderr",
     "output_type": "stream",
     "text": [
      "                                                                                \r"
     ]
    }
   ],
   "source": [
    "model = lr.fit(vec_train_df)"
   ]
  },
  {
   "cell_type": "code",
   "execution_count": 55,
   "id": "1bdd2903-1747-422c-9806-38e333139db1",
   "metadata": {},
   "outputs": [
    {
     "name": "stdout",
     "output_type": "stream",
     "text": [
      "RMSE: 7.438315674597085\n",
      "R2: 0.8165897408526807\n"
     ]
    }
   ],
   "source": [
    "# 예측\n",
    "predictions = model.transform(vec_test_df)\n",
    "\n",
    "# 평가\n",
    "print(f'RMSE: {model.summary.rootMeanSquaredError}')\n",
    "print(f'R2: {model.summary.r2}')"
   ]
  },
  {
   "cell_type": "markdown",
   "id": "afb79ffe-2a25-41c1-8089-6f58c49461cf",
   "metadata": {},
   "source": [
    "## 6️⃣ 튜닝된 모델 저장하기"
   ]
  },
  {
   "cell_type": "code",
   "execution_count": 56,
   "id": "1a62f669-dffa-4305-a4ab-4ef78bf511df",
   "metadata": {},
   "outputs": [],
   "source": [
    "# /home/ubuntu/working/taxi_analysis/data/lr_model\n",
    "model_dir = '/home/ubuntu/working/taxi_analysis/data/lr_model'\n",
    "# pipeline_dir = '/home/ubuntu/working/spark-example/data/pipeline'\n",
    "\n",
    "model.write().overwrite().save(model_dir)\n"
   ]
  },
  {
   "cell_type": "code",
   "execution_count": null,
   "id": "150c3f46-14f9-45f1-9e79-61c2305484e3",
   "metadata": {},
   "outputs": [],
   "source": [
    "pwd"
   ]
  },
  {
   "cell_type": "markdown",
   "id": "d6ba3055-1362-4fd2-bb49-99ad50d2edc9",
   "metadata": {},
   "source": [
    "## 7️⃣ 튜닝 모델 불러오기"
   ]
  },
  {
   "cell_type": "code",
   "execution_count": 61,
   "id": "6c6df564-4c4a-40d7-bbe7-80841eaa4c59",
   "metadata": {},
   "outputs": [],
   "source": [
    "# 모델 로딩(할 때는 class도 함께 import해라)\n",
    "from pyspark.ml.regression import LinearRegressionModel\n",
    "model_dir = '/home/ubuntu/working/taxi_analysis/data/lr_model'\n",
    "loaded_model = LinearRegressionModel.load(model_dir)"
   ]
  },
  {
   "cell_type": "code",
   "execution_count": 62,
   "id": "ac5aa5fe-5b3e-441f-a9f6-0d01c7cd2e6a",
   "metadata": {},
   "outputs": [
    {
     "data": {
      "text/plain": [
       "Param(parent='LinearRegression_9e2abe05ccfd', name='regParam', doc='regularization parameter (>= 0).')"
      ]
     },
     "execution_count": 62,
     "metadata": {},
     "output_type": "execute_result"
    }
   ],
   "source": [
    "loaded_model.regParam"
   ]
  },
  {
   "cell_type": "code",
   "execution_count": 63,
   "id": "773255e9-85cc-482f-abf8-ea6429ae5e49",
   "metadata": {},
   "outputs": [
    {
     "name": "stdout",
     "output_type": "stream",
     "text": [
      "aggregationDepth: 2\n",
      "elasticNetParam: 0.1\n",
      "epsilon: 1.35\n",
      "featuresCol: feature_vector\n",
      "fitIntercept: True\n",
      "labelCol: total_amount\n",
      "loss: squaredError\n",
      "maxBlockSizeInMB: 0.0\n",
      "maxIter: 50\n",
      "predictionCol: prediction\n",
      "regParam: 0.01\n",
      "solver: normal\n",
      "standardization: True\n",
      "tol: 1e-06\n"
     ]
    }
   ],
   "source": [
    "# 모델의 모든 파라미터 가져오기\n",
    "params = loaded_model.extractParamMap()\n",
    "\n",
    "# 파라미터 및 해당 값을 출력\n",
    "for param, value in params.items():\n",
    "    print(f\"{param.name}: {value}\")\n"
   ]
  },
  {
   "cell_type": "markdown",
   "id": "02bc5908-31df-4d45-a3f3-a2de2b4224b9",
   "metadata": {},
   "source": [
    "## 8️⃣ 로드된 모델을 사용하여 예측 또는 평가 수행"
   ]
  },
  {
   "cell_type": "code",
   "execution_count": 64,
   "id": "cb713c5d-2df9-4829-bf87-7f7d10ac3504",
   "metadata": {},
   "outputs": [
    {
     "name": "stderr",
     "output_type": "stream",
     "text": [
      "[Stage 3056:=================================================>    (11 + 1) / 12]\r"
     ]
    },
    {
     "name": "stdout",
     "output_type": "stream",
     "text": [
      "Root Mean Squared Error (RMSE): 7.443909114452387\n"
     ]
    },
    {
     "name": "stderr",
     "output_type": "stream",
     "text": [
      "                                                                                \r"
     ]
    }
   ],
   "source": [
    "predictions = loaded_model.transform(vec_test_df)    \n",
    "evaluator = RegressionEvaluator(labelCol=\"total_amount\", predictionCol=\"prediction\", metricName=\"rmse\")  \n",
    "rmse = evaluator.evaluate(predictions)  \n",
    "print(\"Root Mean Squared Error (RMSE):\", rmse)  "
   ]
  },
  {
   "cell_type": "code",
   "execution_count": 65,
   "id": "30373e3e-fa22-4c8d-a608-dd695d7464bf",
   "metadata": {},
   "outputs": [
    {
     "name": "stderr",
     "output_type": "stream",
     "text": [
      "[Stage 3058:=================================================>    (11 + 1) / 12]\r"
     ]
    },
    {
     "name": "stdout",
     "output_type": "stream",
     "text": [
      "r2): 0.8161330515277185\n"
     ]
    },
    {
     "name": "stderr",
     "output_type": "stream",
     "text": [
      "                                                                                \r"
     ]
    }
   ],
   "source": [
    "evaluator = RegressionEvaluator(labelCol=\"total_amount\", predictionCol=\"prediction\", metricName=\"r2\")  \n",
    "r2 = evaluator.evaluate(predictions)  \n",
    "print(\"r2):\", r2)  "
   ]
  },
  {
   "cell_type": "code",
   "execution_count": 53,
   "id": "feca7fc4-2e19-4305-919d-6dc5f0a0397d",
   "metadata": {},
   "outputs": [],
   "source": [
    "spark.stop()"
   ]
  },
  {
   "cell_type": "code",
   "execution_count": null,
   "metadata": {},
   "outputs": [],
   "source": []
  }
 ],
 "metadata": {
  "kernelspec": {
   "display_name": "Python 3 (ipykernel)",
   "language": "python",
   "name": "python3"
  },
  "language_info": {
   "codemirror_mode": {
    "name": "ipython",
    "version": 3
   },
   "file_extension": ".py",
   "mimetype": "text/x-python",
   "name": "python",
   "nbconvert_exporter": "python",
   "pygments_lexer": "ipython3",
   "version": "3.8.17"
  }
 },
 "nbformat": 4,
 "nbformat_minor": 5
}
