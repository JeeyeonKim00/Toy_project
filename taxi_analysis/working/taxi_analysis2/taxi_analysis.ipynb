{
 "cells": [
  {
   "cell_type": "markdown",
   "metadata": {},
   "source": [
    "# 1️⃣ 데이터 가져오기"
   ]
  },
  {
   "cell_type": "markdown",
   "metadata": {},
   "source": [
    "All files will be stored in the PARQUET format. Please see the ‘Working With PARQUET Format’ under the Data Dictionaries and MetaData section.\n",
    "Trip data will be published **monthly** (**with two months delay**) instead of bi-annually.\n",
    "HVFHV files will now include 17 more columns (please see High Volume FHV Trips Dictionary for details). Additional columns will be added to the old files as well. The earliest date to include additional columns: February 2019.\n",
    "Yellow trip data will now include 1 additional column (‘airport_fee’, please see Yellow Trips Dictionary for details). The additional column will be added to the old files as well. The earliest date to include the additional column: January 2011."
   ]
  },
  {
   "cell_type": "markdown",
   "metadata": {},
   "source": [
    "매년 1월 1일에 전년도 데이터를 받아와서 분석  \n",
    "- 예) 만약 오늘이 2023-01-01이라면 2022년도 데이터를 모두 받아와서 분석.\n",
    "- 택시데이터가 open되기까지는 약 3개월 정도 delay가 있음.\n",
    "- 즉 2022-12월 데이터를 받기위해서는 2023-3월까지 기다려야 한다는 말.\n",
    "- 그러므로 **매년 3월**에 전년도 데이터를 받아오기로 하자.  "
   ]
  },
  {
   "cell_type": "code",
   "execution_count": 1,
   "metadata": {
    "scrolled": true
   },
   "outputs": [],
   "source": [
    "# import requests\n",
    "# from bs4 import BeautifulSoup\n",
    "# import urllib\n",
    "# import pandas as pd\n",
    "# import datetime\n",
    "\n",
    "# today = datetime.date.today()\n",
    "# today_year = today.year -1\n",
    "\n",
    "# url = 'https://www.nyc.gov/site/tlc/about/tlc-trip-record-data.page'\n",
    "# res = requests.get(url)\n",
    "# soup = BeautifulSoup(res.content, 'html.parser')\n",
    "# parquet_link = soup.find_all('a',{'title':'Yellow Taxi Trip Records', 'href':True})\n",
    "# parquet_link\n",
    "\n",
    "# for link in parquet_link:\n",
    "#     file_link = link.get('href')\n",
    "#     file_name = file_link.split('/')[-1]\n",
    "#     folder_path = '/home/ubuntu/working/spark-example/data/taxi_parquet/'\n",
    "#     download_path = folder_path + file_name\n",
    "#     # print(file_name)\n",
    "#     # anlaysis_link = []\n",
    "#     if str(today_year) in file_link:\n",
    "#         response = requests.get(file_link)\n",
    "#         with open(download_path, 'wb') as file:\n",
    "#             file.write(response.content)\n",
    "#             print(f'{file_name} 다운로드 완료')\n",
    "\n"
   ]
  },
  {
   "cell_type": "code",
   "execution_count": 19,
   "metadata": {
    "scrolled": true
   },
   "outputs": [],
   "source": [
    "from pyspark.sql import SparkSession\n",
    "\n",
    "spark = SparkSession.builder.appName('taxi').getOrCreate()\n",
    "\n",
    "taxi_filepath = '/home/ubuntu/working/taxi_analysis/data/taxi_parquet/*.parquet'\n",
    "zone_filepath = '/home/ubuntu/working/taxi_analysis/data/taxi_parquet/taxi+_zone_lookup.csv'"
   ]
  },
  {
   "cell_type": "code",
   "execution_count": 20,
   "metadata": {},
   "outputs": [
    {
     "name": "stdout",
     "output_type": "stream",
     "text": [
      "• taxi_df의 shape : 39656098, 19\n",
      "• zone_df의 shape : 265, 4\n",
      "• taxi_df의 schema\n",
      "root\n",
      " |-- VendorID: long (nullable = true)\n",
      " |-- tpep_pickup_datetime: timestamp (nullable = true)\n",
      " |-- tpep_dropoff_datetime: timestamp (nullable = true)\n",
      " |-- passenger_count: double (nullable = true)\n",
      " |-- trip_distance: double (nullable = true)\n",
      " |-- RatecodeID: double (nullable = true)\n",
      " |-- store_and_fwd_flag: string (nullable = true)\n",
      " |-- PULocationID: long (nullable = true)\n",
      " |-- DOLocationID: long (nullable = true)\n",
      " |-- payment_type: long (nullable = true)\n",
      " |-- fare_amount: double (nullable = true)\n",
      " |-- extra: double (nullable = true)\n",
      " |-- mta_tax: double (nullable = true)\n",
      " |-- tip_amount: double (nullable = true)\n",
      " |-- tolls_amount: double (nullable = true)\n",
      " |-- improvement_surcharge: double (nullable = true)\n",
      " |-- total_amount: double (nullable = true)\n",
      " |-- congestion_surcharge: double (nullable = true)\n",
      " |-- airport_fee: double (nullable = true)\n",
      "\n",
      "None\n",
      "• zone_df의 schema\n",
      "root\n",
      " |-- LocationID: string (nullable = true)\n",
      " |-- Borough: string (nullable = true)\n",
      " |-- Zone: string (nullable = true)\n",
      " |-- service_zone: string (nullable = true)\n",
      "\n",
      "None\n"
     ]
    }
   ],
   "source": [
    "taxi_df = spark.read.parquet(f'file:///{taxi_filepath}')\n",
    "zone_df = spark.read.csv(f'file:///{zone_filepath}', inferSchema=False, header=True)\n",
    "\n",
    "print(f'• taxi_df의 shape : {taxi_df.count()}, {len(taxi_df.columns)}')\n",
    "print(f'• zone_df의 shape : {zone_df.count()}, {len(zone_df.columns)}')\n",
    "\n",
    "print('• taxi_df의 schema')\n",
    "print(taxi_df.printSchema())\n",
    "print('• zone_df의 schema')\n",
    "print(zone_df.printSchema())"
   ]
  },
  {
   "cell_type": "markdown",
   "metadata": {},
   "source": [
    "# 2️⃣ total table 만들기\n",
    "- zone_df와 taxi_df의 join\n",
    "  - zone_df의 `LocationID` == taxi_df의 `PULocationID`\n",
    "  - zone_df의 `LocationID` == taxi_df의 `DOLocationID`"
   ]
  },
  {
   "cell_type": "code",
   "execution_count": 29,
   "metadata": {},
   "outputs": [],
   "source": [
    "taxi_df.createOrReplaceTempView('taxi')\n",
    "zone_df.createOrReplaceTempView('zone')"
   ]
  },
  {
   "cell_type": "code",
   "execution_count": 32,
   "metadata": {},
   "outputs": [],
   "source": [
    "query = \"\"\"\n",
    "        SELECT \n",
    "            t.VendorID as vendor_id,\n",
    "            TO_DATE(t.tpep_pickup_datetime) as pickup_date,\n",
    "            TO_DATE(t.tpep_dropoff_datetime) as dropoff_date,\n",
    "            HOUR(t.tpep_pickup_datetime) as pickup_time,\n",
    "            HOUR(t.tpep_dropoff_datetime) as dropoff_time,\n",
    "            t.passenger_count,\n",
    "            t.trip_distance,\n",
    "            t.fare_amount,\n",
    "            t.tip_amount,\n",
    "            t.tolls_amount,\n",
    "            t.total_amount,\n",
    "            t.payment_type,\n",
    "            pz.Zone as pickup_zone,\n",
    "            dz.Zone as dropoff_zone\n",
    "        FROM taxi t\n",
    "            LEFT JOIN zone pz\n",
    "            ON t.PULocationID = pz.LocationID\n",
    "            LEFT JOIN zone dz\n",
    "            ON t.DOLocationID = dz.LocationID\n",
    "\"\"\"\n",
    "\n",
    "comb_df = spark.sql(query)\n",
    "comb_df.createOrReplaceTempView('comb')"
   ]
  },
  {
   "cell_type": "code",
   "execution_count": 34,
   "metadata": {},
   "outputs": [
    {
     "name": "stderr",
     "output_type": "stream",
     "text": [
      "[Stage 11:=========>                                              (2 + 10) / 12]\r"
     ]
    },
    {
     "name": "stdout",
     "output_type": "stream",
     "text": [
      "comb_df의 shape: 39656098, 14\n",
      "root\n",
      " |-- vendor_id: long (nullable = true)\n",
      " |-- pickup_date: date (nullable = true)\n",
      " |-- dropoff_date: date (nullable = true)\n",
      " |-- pickup_time: integer (nullable = true)\n",
      " |-- dropoff_time: integer (nullable = true)\n",
      " |-- passenger_count: double (nullable = true)\n",
      " |-- trip_distance: double (nullable = true)\n",
      " |-- fare_amount: double (nullable = true)\n",
      " |-- tip_amount: double (nullable = true)\n",
      " |-- tolls_amount: double (nullable = true)\n",
      " |-- total_amount: double (nullable = true)\n",
      " |-- payment_type: long (nullable = true)\n",
      " |-- pickup_zone: string (nullable = true)\n",
      " |-- dropoff_zone: string (nullable = true)\n",
      "\n"
     ]
    },
    {
     "name": "stderr",
     "output_type": "stream",
     "text": [
      "                                                                                \r"
     ]
    }
   ],
   "source": [
    "print(f'comb_df의 shape: {comb_df.count()}, {len(comb_df.columns)}')\n",
    "comb_df.printSchema()"
   ]
  },
  {
   "cell_type": "markdown",
   "metadata": {},
   "source": [
    "# 3️⃣이상치 제거를 위한 통계 data 확인"
   ]
  },
  {
   "cell_type": "markdown",
   "metadata": {},
   "source": [
    "### ① total_amount 확인\n",
    "- total_amount가 음수인 것은 말이 되지 않음 -> total_amount>0이상이어야 함.\n",
    "- `total_amount 이상치 有`"
   ]
  },
  {
   "cell_type": "code",
   "execution_count": 40,
   "metadata": {
    "scrolled": true
   },
   "outputs": [
    {
     "name": "stderr",
     "output_type": "stream",
     "text": [
      "[Stage 27:====>                                                   (1 + 11) / 12]\r"
     ]
    },
    {
     "name": "stdout",
     "output_type": "stream",
     "text": [
      "+-------+------------------+\n",
      "|summary|      total_amount|\n",
      "+-------+------------------+\n",
      "|  count|          39656098|\n",
      "|   mean|21.671268443330536|\n",
      "| stddev| 96.37360220544845|\n",
      "|    min|           -2567.8|\n",
      "|    max|         401095.62|\n",
      "+-------+------------------+\n",
      "\n"
     ]
    },
    {
     "name": "stderr",
     "output_type": "stream",
     "text": [
      "                                                                                \r"
     ]
    }
   ],
   "source": [
    "comb_df.select('total_amount').describe().show()"
   ]
  },
  {
   "cell_type": "markdown",
   "metadata": {},
   "source": [
    "### ② trip_distance 확인"
   ]
  },
  {
   "cell_type": "code",
   "execution_count": 41,
   "metadata": {
    "scrolled": true
   },
   "outputs": [
    {
     "name": "stdout",
     "output_type": "stream",
     "text": [
      "+-------+-----------------+\n",
      "|summary|    trip_distance|\n",
      "+-------+-----------------+\n",
      "|  count|         39656098|\n",
      "|   mean|5.959398968097749|\n",
      "| stddev|599.1907143779277|\n",
      "|    min|              0.0|\n",
      "|    max|        389678.46|\n",
      "+-------+-----------------+\n",
      "\n"
     ]
    },
    {
     "name": "stderr",
     "output_type": "stream",
     "text": [
      "                                                                                \r"
     ]
    }
   ],
   "source": [
    "comb_df.select(\"trip_distance\").describe().show()"
   ]
  },
  {
   "cell_type": "markdown",
   "metadata": {},
   "source": [
    "### ③ passenger_count 확인"
   ]
  },
  {
   "cell_type": "code",
   "execution_count": 42,
   "metadata": {},
   "outputs": [
    {
     "name": "stdout",
     "output_type": "stream",
     "text": [
      "+-------+------------------+\n",
      "|summary|   passenger_count|\n",
      "+-------+------------------+\n",
      "|  count|          38287795|\n",
      "|   mean|1.4011492173942115|\n",
      "| stddev|0.9628938026962094|\n",
      "|    min|               0.0|\n",
      "|    max|               9.0|\n",
      "+-------+------------------+\n",
      "\n"
     ]
    },
    {
     "name": "stderr",
     "output_type": "stream",
     "text": [
      "                                                                                \r"
     ]
    }
   ],
   "source": [
    "comb_df.select('passenger_count').describe().show()"
   ]
  },
  {
   "cell_type": "markdown",
   "metadata": {},
   "source": [
    "### ④ pickup year확인\n",
    "- 2022년 데이터만 가져왔기 때문에 그 외의 년도는 이상치이다.\n",
    "- `이상치 有`"
   ]
  },
  {
   "cell_type": "code",
   "execution_count": 45,
   "metadata": {},
   "outputs": [
    {
     "name": "stderr",
     "output_type": "stream",
     "text": [
      "[Stage 43:===================================================>    (11 + 1) / 12]\r"
     ]
    },
    {
     "name": "stdout",
     "output_type": "stream",
     "text": [
      "+----+--------+\n",
      "|year|     cnt|\n",
      "+----+--------+\n",
      "|2001|       6|\n",
      "|2002|     439|\n",
      "|2003|      11|\n",
      "|2009|      74|\n",
      "|2012|       1|\n",
      "|2022|39610696|\n",
      "|2023|   44871|\n",
      "+----+--------+\n",
      "\n"
     ]
    },
    {
     "name": "stderr",
     "output_type": "stream",
     "text": [
      "                                                                                \r"
     ]
    }
   ],
   "source": [
    "query = \"\"\"\n",
    "        SELECT YEAR(pickup_date) as year, \n",
    "                count(*) as cnt\n",
    "        FROM comb\n",
    "        GROUP BY year\n",
    "        ORDER BY year\n",
    "\"\"\"\n",
    "\n",
    "spark.sql(query).show()"
   ]
  },
  {
   "cell_type": "markdown",
   "metadata": {},
   "source": [
    "### ⑤ pickup month 확인"
   ]
  },
  {
   "cell_type": "code",
   "execution_count": 48,
   "metadata": {
    "scrolled": true
   },
   "outputs": [
    {
     "name": "stderr",
     "output_type": "stream",
     "text": [
      "[Stage 49:=================================>                       (7 + 5) / 12]\r"
     ]
    },
    {
     "name": "stdout",
     "output_type": "stream",
     "text": [
      "+-----+-------+\n",
      "|month|    cnt|\n",
      "+-----+-------+\n",
      "|    1|2464401|\n",
      "|    2|2971227|\n",
      "|    3|3610732|\n",
      "|    4|3601690|\n",
      "|    5|3597409|\n",
      "|    6|3556748|\n",
      "|    7|3192298|\n",
      "|    8|3138840|\n",
      "|    9|3172370|\n",
      "|   10|3689465|\n",
      "|   11|3244910|\n",
      "|   12|3416008|\n",
      "+-----+-------+\n",
      "\n"
     ]
    },
    {
     "name": "stderr",
     "output_type": "stream",
     "text": [
      "                                                                                \r"
     ]
    }
   ],
   "source": [
    "query = \"\"\"\n",
    "        SELECT MONTH(pickup_date) as month, count(*) as cnt\n",
    "        FROM comb\n",
    "        GROUP BY month\n",
    "        ORDER BY month\n",
    "        \n",
    "\"\"\"\n",
    "spark.sql(query).show()"
   ]
  },
  {
   "cell_type": "markdown",
   "metadata": {},
   "source": [
    "### 최종 전처리 쿼리"
   ]
  },
  {
   "cell_type": "code",
   "execution_count": 46,
   "metadata": {},
   "outputs": [],
   "source": [
    "query = \"\"\"\n",
    "        SELECT *\n",
    "        FROM comb\n",
    "        WHERE (total_amount BETWEEN 0 AND 5000)\n",
    "        AND trip_distance < 100\n",
    "        AND passenger_count < 4\n",
    "        AND pickup_date BETWEEN '2022-01-01' AND '2022-12-31'\n",
    "\"\"\"\n",
    "\n",
    "final_df = spark.sql(query)\n",
    "final_df.createOrReplaceTempView('final')"
   ]
  },
  {
   "cell_type": "code",
   "execution_count": 47,
   "metadata": {
    "scrolled": true
   },
   "outputs": [
    {
     "name": "stdout",
     "output_type": "stream",
     "text": [
      "+---------+-----------+------------+-----------+------------+---------------+-------------+-----------+----------+------------+------------+------------+--------------------+--------------------+\n",
      "|vendor_id|pickup_date|dropoff_date|pickup_time|dropoff_time|passenger_count|trip_distance|fare_amount|tip_amount|tolls_amount|total_amount|payment_type|         pickup_zone|        dropoff_zone|\n",
      "+---------+-----------+------------+-----------+------------+---------------+-------------+-----------+----------+------------+------------+------------+--------------------+--------------------+\n",
      "|        1| 2022-03-01|  2022-03-01|          9|           9|            1.0|          2.4|       10.0|       0.0|         0.0|        13.8|           2|            Flatiron|             Seaport|\n",
      "|        1| 2022-03-01|  2022-03-01|          9|          10|            1.0|          2.2|       10.5|       0.0|         0.0|        14.3|           2|     Lower East Side|            Union Sq|\n",
      "|        2| 2022-03-01|  2022-03-01|          9|           9|            1.0|        19.78|       52.0|     11.06|         0.0|       67.61|           1|         JFK Airport|        West Village|\n",
      "|        2| 2022-03-01|  2022-03-01|          9|          10|            2.0|         2.94|       11.0|      4.44|         0.0|       19.24|           1|                SoHo|  DUMBO/Vinegar Hill|\n",
      "|        2| 2022-03-01|  2022-03-01|          9|           9|            1.0|         8.57|       25.0|      5.51|         0.0|       33.06|           1|   LaGuardia Airport|       Richmond Hill|\n",
      "|        1| 2022-03-01|  2022-03-01|          9|           9|            2.0|         14.0|       43.5|       9.2|         0.0|       55.25|           1|         JFK Airport|    Brooklyn Heights|\n",
      "|        2| 2022-03-01|  2022-03-01|          9|           9|            1.0|         0.61|        4.5|       1.0|         0.0|         6.8|           1| Morningside Heights|    Manhattan Valley|\n",
      "|        2| 2022-03-01|  2022-03-01|          9|           9|            1.0|         2.83|       13.0|       3.7|         0.0|        18.0|           1|   East Harlem North|Upper West Side N...|\n",
      "|        2| 2022-03-01|  2022-03-01|          9|           9|            1.0|          0.1|        2.5|       0.0|         0.0|         3.8|           2|Long Island City/...|Long Island City/...|\n",
      "|        2| 2022-03-01|  2022-03-01|          9|           9|            1.0|          1.4|       52.0|       8.0|        6.55|       69.85|           1|         Murray Hill|            Flatiron|\n",
      "|        2| 2022-03-01|  2022-03-01|          9|          10|            1.0|        14.48|       45.5|      9.36|         0.0|       57.41|           1|         JFK Airport|         Fort Greene|\n",
      "|        2| 2022-03-01|  2022-03-01|          9|          10|            1.0|         7.98|       23.5|       4.0|         0.0|       30.05|           1|   LaGuardia Airport|Williamsburg (Nor...|\n",
      "|        2| 2022-03-01|  2022-03-01|          9|           9|            1.0|         3.48|       16.0|       0.0|         0.0|        17.3|           2|         Old Astoria|           Sunnyside|\n",
      "|        2| 2022-03-01|  2022-03-01|          9|          10|            1.0|         8.57|       34.0|       0.0|         0.0|        35.3|           2|           Sunnyside|       East Elmhurst|\n",
      "|        2| 2022-03-01|  2022-03-01|          9|           9|            1.0|         7.56|       23.5|       6.2|         0.0|       32.25|           1|   LaGuardia Airport|Williamsburg (Sou...|\n",
      "|        2| 2022-03-01|  2022-03-01|          9|           9|            2.0|         4.33|       15.0|      3.76|         0.0|       22.56|           1|                SoHo| Lincoln Square East|\n",
      "|        2| 2022-03-01|  2022-03-01|          9|          10|            1.0|        20.76|       52.0|     12.12|        6.55|       72.72|           1|         JFK Airport|Upper West Side N...|\n",
      "|        2| 2022-03-01|  2022-03-01|          9|           9|            2.0|         1.45|        7.5|      2.26|         0.0|       13.56|           1|     Lower East Side|TriBeCa/Civic Center|\n",
      "|        1| 2022-03-01|  2022-03-01|          9|           9|            1.0|          5.5|       17.5|       2.0|         0.0|        23.3|           1|        Midtown East|Williamsburg (Nor...|\n",
      "|        1| 2022-03-01|  2022-03-01|          9|           9|            3.0|          1.3|        5.5|       2.5|         0.0|        11.8|           1|            Kips Bay|     Lenox Hill West|\n",
      "+---------+-----------+------------+-----------+------------+---------------+-------------+-----------+----------+------------+------------+------------+--------------------+--------------------+\n",
      "only showing top 20 rows\n",
      "\n"
     ]
    }
   ],
   "source": [
    "final_df.show()"
   ]
  },
  {
   "cell_type": "markdown",
   "metadata": {},
   "source": [
    "# 4️⃣ 시각화"
   ]
  },
  {
   "cell_type": "code",
   "execution_count": 50,
   "metadata": {},
   "outputs": [],
   "source": [
    "import numpy as np\n",
    "import pandas as pd\n",
    "import seaborn as sns\n",
    "import matplotlib.pyplot as plt\n",
    "import matplotlib.dates as mdates"
   ]
  },
  {
   "cell_type": "markdown",
   "metadata": {},
   "source": [
    "### ① 시계열 데이터(승객수 변화)"
   ]
  },
  {
   "cell_type": "code",
   "execution_count": 51,
   "metadata": {},
   "outputs": [
    {
     "data": {
      "text/plain": [
       "['vendor_id',\n",
       " 'pickup_date',\n",
       " 'dropoff_date',\n",
       " 'pickup_time',\n",
       " 'dropoff_time',\n",
       " 'passenger_count',\n",
       " 'trip_distance',\n",
       " 'fare_amount',\n",
       " 'tip_amount',\n",
       " 'tolls_amount',\n",
       " 'total_amount',\n",
       " 'payment_type',\n",
       " 'pickup_zone',\n",
       " 'dropoff_zone']"
      ]
     },
     "execution_count": 51,
     "metadata": {},
     "output_type": "execute_result"
    }
   ],
   "source": [
    "final_df.columns"
   ]
  },
  {
   "cell_type": "code",
   "execution_count": 52,
   "metadata": {},
   "outputs": [
    {
     "name": "stderr",
     "output_type": "stream",
     "text": [
      "                                                                                \r"
     ]
    },
    {
     "data": {
      "text/html": [
       "<div>\n",
       "<style scoped>\n",
       "    .dataframe tbody tr th:only-of-type {\n",
       "        vertical-align: middle;\n",
       "    }\n",
       "\n",
       "    .dataframe tbody tr th {\n",
       "        vertical-align: top;\n",
       "    }\n",
       "\n",
       "    .dataframe thead th {\n",
       "        text-align: right;\n",
       "    }\n",
       "</style>\n",
       "<table border=\"1\" class=\"dataframe\">\n",
       "  <thead>\n",
       "    <tr style=\"text-align: right;\">\n",
       "      <th></th>\n",
       "      <th>pickup_date</th>\n",
       "      <th>cnt</th>\n",
       "    </tr>\n",
       "  </thead>\n",
       "  <tbody>\n",
       "    <tr>\n",
       "      <th>0</th>\n",
       "      <td>2022-01-01</td>\n",
       "      <td>31518</td>\n",
       "    </tr>\n",
       "    <tr>\n",
       "      <th>1</th>\n",
       "      <td>2022-01-02</td>\n",
       "      <td>50003</td>\n",
       "    </tr>\n",
       "    <tr>\n",
       "      <th>2</th>\n",
       "      <td>2022-01-03</td>\n",
       "      <td>63064</td>\n",
       "    </tr>\n",
       "    <tr>\n",
       "      <th>3</th>\n",
       "      <td>2022-01-04</td>\n",
       "      <td>67657</td>\n",
       "    </tr>\n",
       "    <tr>\n",
       "      <th>4</th>\n",
       "      <td>2022-01-05</td>\n",
       "      <td>69716</td>\n",
       "    </tr>\n",
       "    <tr>\n",
       "      <th>...</th>\n",
       "      <td>...</td>\n",
       "      <td>...</td>\n",
       "    </tr>\n",
       "    <tr>\n",
       "      <th>359</th>\n",
       "      <td>2022-12-27</td>\n",
       "      <td>70606</td>\n",
       "    </tr>\n",
       "    <tr>\n",
       "      <th>360</th>\n",
       "      <td>2022-12-28</td>\n",
       "      <td>79113</td>\n",
       "    </tr>\n",
       "    <tr>\n",
       "      <th>361</th>\n",
       "      <td>2022-12-29</td>\n",
       "      <td>82657</td>\n",
       "    </tr>\n",
       "    <tr>\n",
       "      <th>362</th>\n",
       "      <td>2022-12-30</td>\n",
       "      <td>84248</td>\n",
       "    </tr>\n",
       "    <tr>\n",
       "      <th>363</th>\n",
       "      <td>2022-12-31</td>\n",
       "      <td>80683</td>\n",
       "    </tr>\n",
       "  </tbody>\n",
       "</table>\n",
       "<p>364 rows × 2 columns</p>\n",
       "</div>"
      ],
      "text/plain": [
       "    pickup_date    cnt\n",
       "0    2022-01-01  31518\n",
       "1    2022-01-02  50003\n",
       "2    2022-01-03  63064\n",
       "3    2022-01-04  67657\n",
       "4    2022-01-05  69716\n",
       "..          ...    ...\n",
       "359  2022-12-27  70606\n",
       "360  2022-12-28  79113\n",
       "361  2022-12-29  82657\n",
       "362  2022-12-30  84248\n",
       "363  2022-12-31  80683\n",
       "\n",
       "[364 rows x 2 columns]"
      ]
     },
     "execution_count": 52,
     "metadata": {},
     "output_type": "execute_result"
    }
   ],
   "source": [
    "query = \"\"\"\n",
    "    SELECT pickup_date, count(*) as cnt\n",
    "    FROM final\n",
    "    GROUP BY pickup_date\n",
    "    ORDER BY pickup_date\n",
    "\"\"\"\n",
    "\n",
    "df_pickup = spark.sql(query).toPandas()\n",
    "df_pickup"
   ]
  },
  {
   "cell_type": "code",
   "execution_count": 58,
   "metadata": {},
   "outputs": [
    {
     "data": {
      "image/png": "[encoded data removed]",
      "text/plain": [
       "<Figure size 1600x600 with 1 Axes>"
      ]
     },
     "metadata": {},
     "output_type": "display_data"
    }
   ],
   "source": [
    "plt.figure(figsize=(16,6))\n",
    "plt.plot(df_pickup['pickup_date'], df_pickup['cnt'])\n",
    "plt.xlabel('Date')\n",
    "plt.ylabel('Passenger Num')\n",
    "plt.title('Change in Taxi Passenger')\n",
    "plt.show()\n",
    "\n",
    "\n",
    "# searborn으로 그리는 법\n",
    "# plt.figure(figsize=(14,4))\n",
    "# sns.lineplot(x='pickup_date', y='cnt', data=df_pickup)"
   ]
  },
  {
   "cell_type": "markdown",
   "metadata": {},
   "source": [
    "### ② 요일 별 승객 수"
   ]
  },
  {
   "cell_type": "code",
   "execution_count": 61,
   "metadata": {},
   "outputs": [
    {
     "name": "stdout",
     "output_type": "stream",
     "text": [
      "<class 'pandas.core.frame.DataFrame'>\n",
      "RangeIndex: 364 entries, 0 to 363\n",
      "Data columns (total 2 columns):\n",
      " #   Column       Non-Null Count  Dtype \n",
      "---  ------       --------------  ----- \n",
      " 0   pickup_date  364 non-null    object\n",
      " 1   cnt          364 non-null    int64 \n",
      "dtypes: int64(1), object(1)\n",
      "memory usage: 5.8+ KB\n"
     ]
    }
   ],
   "source": [
    "df_pickup.info()"
   ]
  },
  {
   "cell_type": "code",
   "execution_count": 64,
   "metadata": {},
   "outputs": [
    {
     "data": {
      "text/html": [
       "<div>\n",
       "<style scoped>\n",
       "    .dataframe tbody tr th:only-of-type {\n",
       "        vertical-align: middle;\n",
       "    }\n",
       "\n",
       "    .dataframe tbody tr th {\n",
       "        vertical-align: top;\n",
       "    }\n",
       "\n",
       "    .dataframe thead th {\n",
       "        text-align: right;\n",
       "    }\n",
       "</style>\n",
       "<table border=\"1\" class=\"dataframe\">\n",
       "  <thead>\n",
       "    <tr style=\"text-align: right;\">\n",
       "      <th></th>\n",
       "      <th>pickup_date</th>\n",
       "      <th>cnt</th>\n",
       "      <th>day</th>\n",
       "    </tr>\n",
       "  </thead>\n",
       "  <tbody>\n",
       "    <tr>\n",
       "      <th>0</th>\n",
       "      <td>2022-01-01</td>\n",
       "      <td>31518</td>\n",
       "      <td>Saturday</td>\n",
       "    </tr>\n",
       "    <tr>\n",
       "      <th>1</th>\n",
       "      <td>2022-01-02</td>\n",
       "      <td>50003</td>\n",
       "      <td>Sunday</td>\n",
       "    </tr>\n",
       "    <tr>\n",
       "      <th>2</th>\n",
       "      <td>2022-01-03</td>\n",
       "      <td>63064</td>\n",
       "      <td>Monday</td>\n",
       "    </tr>\n",
       "    <tr>\n",
       "      <th>3</th>\n",
       "      <td>2022-01-04</td>\n",
       "      <td>67657</td>\n",
       "      <td>Tuesday</td>\n",
       "    </tr>\n",
       "    <tr>\n",
       "      <th>4</th>\n",
       "      <td>2022-01-05</td>\n",
       "      <td>69716</td>\n",
       "      <td>Wednesday</td>\n",
       "    </tr>\n",
       "  </tbody>\n",
       "</table>\n",
       "</div>"
      ],
      "text/plain": [
       "  pickup_date    cnt        day\n",
       "0  2022-01-01  31518   Saturday\n",
       "1  2022-01-02  50003     Sunday\n",
       "2  2022-01-03  63064     Monday\n",
       "3  2022-01-04  67657    Tuesday\n",
       "4  2022-01-05  69716  Wednesday"
      ]
     },
     "execution_count": 64,
     "metadata": {},
     "output_type": "execute_result"
    }
   ],
   "source": [
    "df_pickup['day'] = pd.to_datetime(df_pickup['pickup_date']).dt.day_name()\n",
    "df_pickup.head()"
   ]
  },
  {
   "cell_type": "code",
   "execution_count": 66,
   "metadata": {},
   "outputs": [
    {
     "data": {
      "text/plain": [
       "<Axes: xlabel='day', ylabel='cnt'>"
      ]
     },
     "execution_count": 66,
     "metadata": {},
     "output_type": "execute_result"
    },
    {
     "data": {
      "image/png": "[encoded data removed]",
      "text/plain": [
       "<Figure size 1000x600 with 1 Axes>"
      ]
     },
     "metadata": {},
     "output_type": "display_data"
    }
   ],
   "source": [
    "plt.figure(figsize=(10,6))\n",
    "sns.barplot(x= 'day', y = 'cnt' ,data =df_pickup)"
   ]
  },
  {
   "cell_type": "markdown",
   "metadata": {},
   "source": [
    "### ③ payment_type의 수"
   ]
  },
  {
   "cell_type": "code",
   "execution_count": 71,
   "metadata": {},
   "outputs": [
    {
     "data": {
      "text/plain": [
       "[Row(vendor_id=1, pickup_date=datetime.date(2022, 3, 1), dropoff_date=datetime.date(2022, 3, 1), pickup_time=9, dropoff_time=9, passenger_count=1.0, trip_distance=2.4, fare_amount=10.0, tip_amount=0.0, tolls_amount=0.0, total_amount=13.8, payment_type=2, pickup_zone='Flatiron', dropoff_zone='Seaport'),\n",
       " Row(vendor_id=1, pickup_date=datetime.date(2022, 3, 1), dropoff_date=datetime.date(2022, 3, 1), pickup_time=9, dropoff_time=10, passenger_count=1.0, trip_distance=2.2, fare_amount=10.5, tip_amount=0.0, tolls_amount=0.0, total_amount=14.3, payment_type=2, pickup_zone='Lower East Side', dropoff_zone='Union Sq'),\n",
       " Row(vendor_id=2, pickup_date=datetime.date(2022, 3, 1), dropoff_date=datetime.date(2022, 3, 1), pickup_time=9, dropoff_time=9, passenger_count=1.0, trip_distance=19.78, fare_amount=52.0, tip_amount=11.06, tolls_amount=0.0, total_amount=67.61, payment_type=1, pickup_zone='JFK Airport', dropoff_zone='West Village'),\n",
       " Row(vendor_id=2, pickup_date=datetime.date(2022, 3, 1), dropoff_date=datetime.date(2022, 3, 1), pickup_time=9, dropoff_time=10, passenger_count=2.0, trip_distance=2.94, fare_amount=11.0, tip_amount=4.44, tolls_amount=0.0, total_amount=19.24, payment_type=1, pickup_zone='SoHo', dropoff_zone='DUMBO/Vinegar Hill'),\n",
       " Row(vendor_id=2, pickup_date=datetime.date(2022, 3, 1), dropoff_date=datetime.date(2022, 3, 1), pickup_time=9, dropoff_time=9, passenger_count=1.0, trip_distance=8.57, fare_amount=25.0, tip_amount=5.51, tolls_amount=0.0, total_amount=33.06, payment_type=1, pickup_zone='LaGuardia Airport', dropoff_zone='Richmond Hill')]"
      ]
     },
     "execution_count": 71,
     "metadata": {},
     "output_type": "execute_result"
    }
   ],
   "source": [
    "final_df.take(5)"
   ]
  },
  {
   "cell_type": "code",
   "execution_count": 73,
   "metadata": {},
   "outputs": [
    {
     "name": "stderr",
     "output_type": "stream",
     "text": [
      "                                                                                \r"
     ]
    },
    {
     "data": {
      "text/html": [
       "<div>\n",
       "<style scoped>\n",
       "    .dataframe tbody tr th:only-of-type {\n",
       "        vertical-align: middle;\n",
       "    }\n",
       "\n",
       "    .dataframe tbody tr th {\n",
       "        vertical-align: top;\n",
       "    }\n",
       "\n",
       "    .dataframe thead th {\n",
       "        text-align: right;\n",
       "    }\n",
       "</style>\n",
       "<table border=\"1\" class=\"dataframe\">\n",
       "  <thead>\n",
       "    <tr style=\"text-align: right;\">\n",
       "      <th></th>\n",
       "      <th>payment_type</th>\n",
       "      <th>cnt</th>\n",
       "    </tr>\n",
       "  </thead>\n",
       "  <tbody>\n",
       "    <tr>\n",
       "      <th>0</th>\n",
       "      <td>5</td>\n",
       "      <td>6</td>\n",
       "    </tr>\n",
       "    <tr>\n",
       "      <th>1</th>\n",
       "      <td>1</td>\n",
       "      <td>28652082</td>\n",
       "    </tr>\n",
       "    <tr>\n",
       "      <th>2</th>\n",
       "      <td>3</td>\n",
       "      <td>137173</td>\n",
       "    </tr>\n",
       "    <tr>\n",
       "      <th>3</th>\n",
       "      <td>2</td>\n",
       "      <td>7259117</td>\n",
       "    </tr>\n",
       "    <tr>\n",
       "      <th>4</th>\n",
       "      <td>4</td>\n",
       "      <td>97601</td>\n",
       "    </tr>\n",
       "  </tbody>\n",
       "</table>\n",
       "</div>"
      ],
      "text/plain": [
       "   payment_type       cnt\n",
       "0             5         6\n",
       "1             1  28652082\n",
       "2             3    137173\n",
       "3             2   7259117\n",
       "4             4     97601"
      ]
     },
     "execution_count": 73,
     "metadata": {},
     "output_type": "execute_result"
    }
   ],
   "source": [
    "query = \"\"\"\n",
    "        SELECT payment_type, count(*) as cnt\n",
    "        FROM final\n",
    "        GROUP BY payment_type\n",
    "\"\"\"\n",
    "\n",
    "df_pay = spark.sql(query).toPandas()\n",
    "df_pay"
   ]
  },
  {
   "cell_type": "code",
   "execution_count": 74,
   "metadata": {},
   "outputs": [
    {
     "data": {
      "text/html": [
       "<div>\n",
       "<style scoped>\n",
       "    .dataframe tbody tr th:only-of-type {\n",
       "        vertical-align: middle;\n",
       "    }\n",
       "\n",
       "    .dataframe tbody tr th {\n",
       "        vertical-align: top;\n",
       "    }\n",
       "\n",
       "    .dataframe thead th {\n",
       "        text-align: right;\n",
       "    }\n",
       "</style>\n",
       "<table border=\"1\" class=\"dataframe\">\n",
       "  <thead>\n",
       "    <tr style=\"text-align: right;\">\n",
       "      <th></th>\n",
       "      <th>payment_type</th>\n",
       "      <th>cnt</th>\n",
       "    </tr>\n",
       "    <tr>\n",
       "      <th>payment_type</th>\n",
       "      <th></th>\n",
       "      <th></th>\n",
       "    </tr>\n",
       "  </thead>\n",
       "  <tbody>\n",
       "    <tr>\n",
       "      <th>Unknown</th>\n",
       "      <td>5</td>\n",
       "      <td>6</td>\n",
       "    </tr>\n",
       "    <tr>\n",
       "      <th>Credit Card</th>\n",
       "      <td>1</td>\n",
       "      <td>28652082</td>\n",
       "    </tr>\n",
       "    <tr>\n",
       "      <th>No Charge</th>\n",
       "      <td>3</td>\n",
       "      <td>137173</td>\n",
       "    </tr>\n",
       "    <tr>\n",
       "      <th>Cash</th>\n",
       "      <td>2</td>\n",
       "      <td>7259117</td>\n",
       "    </tr>\n",
       "    <tr>\n",
       "      <th>Dispute</th>\n",
       "      <td>4</td>\n",
       "      <td>97601</td>\n",
       "    </tr>\n",
       "  </tbody>\n",
       "</table>\n",
       "</div>"
      ],
      "text/plain": [
       "              payment_type       cnt\n",
       "payment_type                        \n",
       "Unknown                  5         6\n",
       "Credit Card              1  28652082\n",
       "No Charge                3    137173\n",
       "Cash                     2   7259117\n",
       "Dispute                  4     97601"
      ]
     },
     "execution_count": 74,
     "metadata": {},
     "output_type": "execute_result"
    }
   ],
   "source": [
    "payment_type_to_string = {\n",
    "    1: \"Credit Card\",\n",
    "    2: \"Cash\",\n",
    "    3: \"No Charge\",\n",
    "    4: \"Dispute\",\n",
    "    5: \"Unknown\",\n",
    "    6: \"Voided Trip\",\n",
    "}\n",
    "\n",
    "df_pay.index = df_pay['payment_type'].map(payment_type_to_string)\n",
    "df_pay"
   ]
  },
  {
   "cell_type": "code",
   "execution_count": 75,
   "metadata": {},
   "outputs": [
    {
     "data": {
      "text/plain": [
       "<Axes: xlabel='payment_type', ylabel='cnt'>"
      ]
     },
     "execution_count": 75,
     "metadata": {},
     "output_type": "execute_result"
    },
    {
     "data": {
      "image/png": "[encoded data removed]",
      "text/plain": [
       "<Figure size 640x480 with 1 Axes>"
      ]
     },
     "metadata": {},
     "output_type": "display_data"
    }
   ],
   "source": [
    "sns.barplot(x='payment_type', y='cnt',data=df_pay)"
   ]
  },
  {
   "cell_type": "markdown",
   "metadata": {},
   "source": [
    "payment type은 아래의 순으로 많다\n",
    "- Credit Card > Cash > No Charge > Dispute> Unkown"
   ]
  },
  {
   "cell_type": "code",
   "execution_count": 77,
   "metadata": {},
   "outputs": [
    {
     "name": "stderr",
     "output_type": "stream",
     "text": [
      "Bad pipe message: %s [b'\"Google Chrome\";v=\"119\", \"Chromium\";v=\"119\", \"Not?A_Brand']\n",
      "Bad pipe message: %s [b'v=\"24\"\\r\\nsec-ch-ua-mobile: ?0\\r\\nsec', b'h-ua-platform: \"Windows\"\\r\\nUpgrade-Insecure-R', b'uests: 1\\r\\nUser-Agent: Mozilla/5.0 (Windows NT 10.0; Win64; x64) AppleWebKit/537.36 (KHTML, like Geck', b' Chrome/119.0.0.0 Safari/537.36\\r\\nAccept: text/html,application/xhtml+xml,application/xml;q=0.9,image/avif,imag', b'webp,image/apng,*/*;q=0.8,application/signed-exchange;v=b3;q=0.7\\r\\nSec-Fetch-Site: none\\r\\nSec-Fetch-Mo', b': navigate\\r\\nSec-Fetch-User: ?1\\r\\nSec-Fetch-Dest: document\\r\\nAccept-Encoding: gzip, deflate, br\\r\\nAccep', b'Language: ko-KR,ko;q=0.9,en-US;q=0.8,en;q=0.7\\r\\nCookie: _xsrf=2|a3368e8b|d025e14b663de067fda55e1e56256bdb|1700187581', b'username-127-0-0-1-8888=\"2|1:0|10:1700187699|23:username-1']\n",
      "Bad pipe message: %s [b'-0-0-1-8888|200:eyJ1c2VybmFtZSI6ICI2YzIyOGEyMmIwN', b'0NDE5OGJjYmRlMTNiZDZkZGZmYiIsICJuYW1lIjogIkFub255bW91cyBFdXJ5ZG9tZSIsICJkaXNwbGF5X2', b'bWUiOiAiQW5vbnltb3VzIEV1cnlkb21lIiwgImluaXRpYWxzIjog']\n",
      "Bad pipe message: %s [b'FFIiwgImNvbG9yIjogbnVsbH0=|c4497d85071dfe2d3f46e449d6126d512c85dddfb3c10', b'a84cab381ac0fe357\"; session=31c348d5-ea40-45c9-b904-f2c']\n",
      "Bad pipe message: %s [b'ol: max-age=0\\r\\nsec-ch-ua: \"Google Chrome\";v=\"119\", \"Chromium\";v=\"119\", \"Not?A_Brand\";v=\"24\"\\r\\nsec-ch-ua-mobile: ?0\\r\\n']\n",
      "Bad pipe message: %s [b'c-ch-ua-platform: \"Windows\"\\r\\nUpgrade-Insecure-Requests: 1\\r\\nUser-Agent: Mozilla/5.0 (Windows NT 10.0; Win64; x64) A', b'leWebKit/537.36 (KHTML, like Gecko) Chrome/119.0.0.0 Safari/537.36\\r\\nAccept: text/html,application/xhtml+xml,app']\n",
      "Bad pipe message: %s [b'cation/xml;q=0.9,image/avif,image/webp,image/apng,*/*;q=0.8,application/signed-exchange;v=b3;q=0.7\\r\\nSec-Fet', b'-Site: none\\r\\nSec-Fetch-Mode: navigate\\r\\nSec-Fetch-User: ?1\\r\\nSec-Fetch-Dest: document\\r\\nAccept-Encodi']\n",
      "Bad pipe message: %s [b': gzip, deflate, br\\r\\nAccept-Language: ko-KR,ko;q=0.9,en-US;q=0.8,en;q=0.7\\r\\nCookie: _xsrf=2|a3368e8b|d025e14b6', b'de067fda55e1e56256bdb|1700187581; username-127-0-0-1-', b'88=\"2|1:0|10:1700187699|23:username-127-0-0-1-8888|200:']\n"
     ]
    }
   ],
   "source": [
    "spark.stop()"
   ]
  },
  {
   "cell_type": "code",
   "execution_count": null,
   "metadata": {},
   "outputs": [],
   "source": []
  }
 ],
 "metadata": {
  "kernelspec": {
   "display_name": "Python 3 (ipykernel)",
   "language": "python",
   "name": "python3"
  },
  "language_info": {
   "codemirror_mode": {
    "name": "ipython",
    "version": 3
   },
   "file_extension": ".py",
   "mimetype": "text/x-python",
   "name": "python",
   "nbconvert_exporter": "python",
   "pygments_lexer": "ipython3",
   "version": "3.8.17"
  }
 },
 "nbformat": 4,
 "nbformat_minor": 4
}
